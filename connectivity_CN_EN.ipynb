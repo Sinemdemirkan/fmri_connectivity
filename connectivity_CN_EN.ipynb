{
 "cells": [
  {
   "cell_type": "code",
   "execution_count": 97,
   "id": "7038bb30-c638-4460-8f6c-5969f7d32d8a",
   "metadata": {},
   "outputs": [],
   "source": [
    "# use kernel fmri\n",
    "import os\n",
    "import numpy as np\n",
    "import pandas as pd\n",
    "import matplotlib.pyplot as plt\n",
    "\n",
    "from nilearn.connectome import ConnectivityMeasure\n",
    "from nilearn.input_data import NiftiLabelsMasker\n",
    "from nilearn import datasets\n",
    "from nilearn import image, plotting\n",
    "from nilearn.glm.first_level import FirstLevelModel\n",
    "from nilearn.glm import threshold_stats_img\n",
    "from nilearn.datasets import load_mni152_template\n",
    "from nilearn.plotting import plot_connectome, find_parcellation_cut_coords\n",
    "\n",
    "from scipy import signal, stats\n",
    "\n",
    "from sklearn.model_selection import train_test_split, cross_val_score, StratifiedKFold\n",
    "from sklearn.ensemble import RandomForestClassifier\n",
    "from sklearn.svm import SVC\n",
    "from sklearn.preprocessing import StandardScaler\n",
    "from sklearn.metrics import classification_report, accuracy_score"
   ]
  },
  {
   "cell_type": "code",
   "execution_count": 33,
   "id": "99356382-3ad1-4d8a-b04e-727fce991481",
   "metadata": {},
   "outputs": [
    {
     "name": "stdout",
     "output_type": "stream",
     "text": [
      "Current directory: /Users/sdemirka/fmri/LPP\n"
     ]
    }
   ],
   "source": [
    "print(f\"Current directory: {os.getcwd()}\")"
   ]
  },
  {
   "cell_type": "code",
   "execution_count": 34,
   "id": "327f2b97-5207-4e7a-b3dc-bc0226f7d26a",
   "metadata": {},
   "outputs": [
    {
     "name": "stdout",
     "output_type": "stream",
     "text": [
      "Current directory: /Users/sdemirka/fmri/LPP\n"
     ]
    }
   ],
   "source": [
    "# Set up path\n",
    "data_dir = \"section1/\" \n",
    "print(f\"Current directory: {os.getcwd()}\")"
   ]
  },
  {
   "cell_type": "code",
   "execution_count": 35,
   "id": "d4601fbf-7de2-4cd5-8dee-e15fac0558ad",
   "metadata": {},
   "outputs": [],
   "source": [
    "# Loading files\n",
    "\n",
    "subjects = {\n",
    "    'CN1': 'sub-CN001_task-lppCN_run-04_bold.nii',\n",
    "    'CN2': 'sub-CN002_task-lppCN_run-04_bold.nii',\n",
    "    'CN3': 'sub-CN003_task-lppCN_run-05_bold.nii',\n",
    "    'CN4': 'sub-CN004_task-lppCN_run-06_bold.nii',\n",
    "    'CN5': 'sub-CN005_task-lppCN_run-05_bold.nii',\n",
    "    'CN6': 'sub-CN006_task-lppCN_run-05_bold.nii',\n",
    "    'CN7': 'sub-CN007_task-lppCN_run-09_bold.nii',\n",
    "    'CN8': 'sub-CN008_task-lppCN_run-07_bold.nii',\n",
    "    'CN9': 'sub-CN009_task-lppCN_run-05_bold.nii',\n",
    "    'CN10': 'sub-CN010_task-lppCN_run-05_bold.nii',\n",
    "    'CN11': 'sub-CN011_task-lppCN_run-05_bold.nii',\n",
    "    'CN12': 'sub-CN013_task-lppCN_run-05_bold.nii',\n",
    "    'CN13': 'sub-CN014_task-lppCN_run-05_bold.nii',\n",
    "    'CN14': 'sub-CN015_task-lppCN_run-05_bold.nii',\n",
    "    'CN15': 'sub-CN016_task-lppCN_run-05_bold.nii',\n",
    "    'CN16': 'sub-CN017_task-lppCN_run-05_bold.nii',\n",
    "    'CN17': 'sub-CN018_task-lppCN_run-05_bold.nii',\n",
    "    'CN18': 'sub-CN019_task-lppCN_run-05_bold.nii',\n",
    "    'CN19': 'sub-CN020_task-lppCN_run-05_bold.nii',\n",
    "    'CN20': 'sub-CN021_task-lppCN_run-05_bold.nii',\n",
    "    'CN21': 'sub-CN022_task-lppCN_run-05_bold.nii',\n",
    "    'CN22': 'sub-CN023_task-lppCN_run-05_bold.nii',\n",
    "    'CN23': 'sub-CN024_task-lppCN_run-05_bold.nii',\n",
    "    'CN24': 'sub-CN025_task-lppCN_run-05_bold.nii',\n",
    "    'CN25': 'sub-CN026_task-lppCN_run-05_bold.nii',\n",
    "    \n",
    "    'EN1': 'sub-EN057_task-lppEN_run-15_bold.nii',\n",
    "    'EN2': 'sub-EN058_task-lppEN_run-08_bold.nii',\n",
    "    'EN3': 'sub-EN059_task-lppEN_run-07_bold.nii',\n",
    "    'EN4': 'sub-EN061_task-lppEN_run-09_bold.nii',\n",
    "    'EN5': 'sub-EN062_task-lppEN_run-09_bold.nii',\n",
    "    'EN6': 'sub-EN063_task-lppEN_run-07_bold.nii',\n",
    "    'EN7': 'sub-EN064_task-lppEN_run-06_bold.nii',\n",
    "    'EN8': 'sub-EN065_task-lppEN_run-08_bold.nii',\n",
    "    'EN9': 'sub-EN067_task-lppEN_run-07_bold.nii',\n",
    "    'EN10': 'sub-EN068_task-lppEN_run-08_bold.nii',\n",
    "    'EN11': 'sub-EN069_task-lppEN_run-09_bold.nii',\n",
    "    'EN12': 'sub-EN070_task-lppEN_run-07_bold.nii',\n",
    "    'EN13': 'sub-EN072_task-lppEN_run-14_bold.nii',\n",
    "    'EN14': 'sub-EN073_task-lppEN_run-09_bold.nii',\n",
    "    'EN15': 'sub-EN074_task-lppEN_run-07_bold.nii',\n",
    "    'EN16': 'sub-EN075_task-lppEN_run-09_bold.nii',\n",
    "    'EN17': 'sub-EN076_task-lppEN_run-06_bold.nii',\n",
    "    'EN18': 'sub-EN077_task-lppEN_run-08_bold.nii',\n",
    "    'EN19': 'sub-EN078_task-lppEN_run-06_bold.nii',\n",
    "    'EN20': 'sub-EN079_task-lppEN_run-08_bold.nii',\n",
    "    'EN21': 'sub-EN081_task-lppEN_run-06_bold.nii',\n",
    "    'EN22': 'sub-EN082_task-lppEN_run-06_bold.nii',\n",
    "    'EN23': 'sub-EN083_task-lppEN_run-08_bold.nii',\n",
    "    'EN24': 'sub-EN084_task-lppEN_run-09_bold.nii',\n",
    "    'EN25': 'sub-EN086_task-lppEN_run-06_bold.nii',\n",
    "}\n",
    "\n",
    "# Load the 4D images for each subject\n",
    "img_4d_data = {}\n",
    "\n",
    "for subject_id, filename in subjects.items():\n",
    "    \n",
    "    filepath = os.path.join(data_dir, filename)\n",
    "    \n",
    "    img_4d_data[subject_id] = image.load_img(filepath)\n"
   ]
  },
  {
   "cell_type": "code",
   "execution_count": 30,
   "id": "ddcb5d43-2bda-4ca9-8ebd-a56fef567b14",
   "metadata": {},
   "outputs": [
    {
     "data": {
      "text/plain": [
       "(73, 90, 74, 283)"
      ]
     },
     "execution_count": 30,
     "metadata": {},
     "output_type": "execute_result"
    }
   ],
   "source": [
    "img_4d_data['CN25'].shape"
   ]
  },
  {
   "cell_type": "code",
   "execution_count": 31,
   "id": "31cb26d7-cecd-4116-80a7-0ece2dfd38e7",
   "metadata": {},
   "outputs": [
    {
     "data": {
      "text/html": [
       "<pre style=\"white-space:pre;overflow-x:auto;line-height:normal;font-family:Menlo,'DejaVu Sans Mono',consolas,'Courier New',monospace\"><span style=\"color: #000080; text-decoration-color: #000080; font-weight: bold\">[</span><span style=\"color: #000080; text-decoration-color: #000080\">get_dataset_dir</span><span style=\"color: #000080; text-decoration-color: #000080; font-weight: bold\">]</span> Dataset found in <span style=\"color: #800080; text-decoration-color: #800080\">/Users/sdemirka/nilearn_data/</span><span style=\"color: #ff00ff; text-decoration-color: #ff00ff\">schaefer_2018</span>\n",
       "</pre>\n"
      ],
      "text/plain": [
       "\u001b[1;34m[\u001b[0m\u001b[34mget_dataset_dir\u001b[0m\u001b[1;34m]\u001b[0m Dataset found in \u001b[35m/Users/sdemirka/nilearn_data/\u001b[0m\u001b[95mschaefer_2018\u001b[0m\n"
      ]
     },
     "metadata": {},
     "output_type": "display_data"
    },
    {
     "name": "stderr",
     "output_type": "stream",
     "text": [
      "/var/folders/s_/80g5k_kd3jnc0g5vz4xlf24n5901wp/T/ipykernel_17410/3065917771.py:10: UserWarning: 'labels' must be a list. Got: <class 'numpy.ndarray'>\n",
      "  atlas_masker = NiftiLabelsMasker(\n",
      "/var/folders/s_/80g5k_kd3jnc0g5vz4xlf24n5901wp/T/ipykernel_17410/3065917771.py:10: UserWarning: All elements of 'labels' must be a string.\n",
      "Got a list of {<class 'numpy.bytes_'>}\n",
      "  atlas_masker = NiftiLabelsMasker(\n",
      "/var/folders/s_/80g5k_kd3jnc0g5vz4xlf24n5901wp/T/ipykernel_17410/3065917771.py:10: UserWarning: Mismatch between the number of provided labels (100) and the number of regions in provided label image (101).\n",
      "  atlas_masker = NiftiLabelsMasker(\n"
     ]
    }
   ],
   "source": [
    "# Load brain atlas to define regions\n",
    "atlas = datasets.fetch_atlas_schaefer_2018(n_rois=100, yeo_networks=7, resolution_mm=2)\n",
    "\n",
    "# Create a masker using the atlas\n",
    "atlas_masker = NiftiLabelsMasker(\n",
    "    labels_img=atlas.maps,\n",
    "    labels=atlas.labels,\n",
    "    standardize=True,\n",
    "    detrend=True,\n",
    "    low_pass=0.1,\n",
    "    high_pass=0.01,\n",
    "    t_r=2.0,\n",
    "    memory='nilearn_cache',\n",
    "    memory_level=1,\n",
    "    verbose=1\n",
    ")"
   ]
  },
  {
   "cell_type": "code",
   "execution_count": 40,
   "id": "9f6e59d3-3be2-430b-8058-164d82675968",
   "metadata": {},
   "outputs": [
    {
     "data": {
      "text/html": [
       "<pre style=\"white-space:pre;overflow-x:auto;line-height:normal;font-family:Menlo,'DejaVu Sans Mono',consolas,'Courier New',monospace\"><span style=\"color: #000080; text-decoration-color: #000080; font-weight: bold\">[</span><span style=\"color: #000080; text-decoration-color: #000080\">NiftiLabelsMasker.wrapped</span><span style=\"color: #000080; text-decoration-color: #000080; font-weight: bold\">]</span> loading data from \n",
       "<span style=\"color: #800080; text-decoration-color: #800080\">/Users/sdemirka/nilearn_data/schaefer_2018/</span><span style=\"color: #ff00ff; text-decoration-color: #ff00ff\">Schaefer2018_100Parcels_7Networks_order_FSLMNI152_2mm.nii.gz</span>\n",
       "</pre>\n"
      ],
      "text/plain": [
       "\u001b[1;34m[\u001b[0m\u001b[34mNiftiLabelsMasker.wrapped\u001b[0m\u001b[1;34m]\u001b[0m loading data from \n",
       "\u001b[35m/Users/sdemirka/nilearn_data/schaefer_2018/\u001b[0m\u001b[95mSchaefer2018_100Parcels_7Networks_order_FSLMNI152_2mm.nii.gz\u001b[0m\n"
      ]
     },
     "metadata": {},
     "output_type": "display_data"
    },
    {
     "name": "stderr",
     "output_type": "stream",
     "text": [
      "/Users/sdemirka/fmri/lib/python3.13/site-packages/nilearn/maskers/base_masker.py:282: UserWarning: Mismatch between the number of provided labels (100) and the number of regions in provided label image (101).\n",
      "Note that this may be due to some regions being dropped from the label image after resampling.\n",
      "  return self.transform_single_imgs(\n"
     ]
    },
    {
     "data": {
      "text/html": [
       "<pre style=\"white-space:pre;overflow-x:auto;line-height:normal;font-family:Menlo,'DejaVu Sans Mono',consolas,'Courier New',monospace\"><span style=\"color: #000080; text-decoration-color: #000080; font-weight: bold\">[</span><span style=\"color: #000080; text-decoration-color: #000080\">NiftiLabelsMasker.wrapped</span><span style=\"color: #000080; text-decoration-color: #000080; font-weight: bold\">]</span> loading data from \n",
       "<span style=\"color: #800080; text-decoration-color: #800080\">/Users/sdemirka/nilearn_data/schaefer_2018/</span><span style=\"color: #ff00ff; text-decoration-color: #ff00ff\">Schaefer2018_100Parcels_7Networks_order_FSLMNI152_2mm.nii.gz</span>\n",
       "</pre>\n"
      ],
      "text/plain": [
       "\u001b[1;34m[\u001b[0m\u001b[34mNiftiLabelsMasker.wrapped\u001b[0m\u001b[1;34m]\u001b[0m loading data from \n",
       "\u001b[35m/Users/sdemirka/nilearn_data/schaefer_2018/\u001b[0m\u001b[95mSchaefer2018_100Parcels_7Networks_order_FSLMNI152_2mm.nii.gz\u001b[0m\n"
      ]
     },
     "metadata": {},
     "output_type": "display_data"
    },
    {
     "data": {
      "text/html": [
       "<pre style=\"white-space:pre;overflow-x:auto;line-height:normal;font-family:Menlo,'DejaVu Sans Mono',consolas,'Courier New',monospace\"><span style=\"color: #000080; text-decoration-color: #000080; font-weight: bold\">[</span><span style=\"color: #000080; text-decoration-color: #000080\">NiftiLabelsMasker.wrapped</span><span style=\"color: #000080; text-decoration-color: #000080; font-weight: bold\">]</span> loading data from \n",
       "<span style=\"color: #800080; text-decoration-color: #800080\">/Users/sdemirka/nilearn_data/schaefer_2018/</span><span style=\"color: #ff00ff; text-decoration-color: #ff00ff\">Schaefer2018_100Parcels_7Networks_order_FSLMNI152_2mm.nii.gz</span>\n",
       "</pre>\n"
      ],
      "text/plain": [
       "\u001b[1;34m[\u001b[0m\u001b[34mNiftiLabelsMasker.wrapped\u001b[0m\u001b[1;34m]\u001b[0m loading data from \n",
       "\u001b[35m/Users/sdemirka/nilearn_data/schaefer_2018/\u001b[0m\u001b[95mSchaefer2018_100Parcels_7Networks_order_FSLMNI152_2mm.nii.gz\u001b[0m\n"
      ]
     },
     "metadata": {},
     "output_type": "display_data"
    },
    {
     "data": {
      "text/html": [
       "<pre style=\"white-space:pre;overflow-x:auto;line-height:normal;font-family:Menlo,'DejaVu Sans Mono',consolas,'Courier New',monospace\"><span style=\"color: #000080; text-decoration-color: #000080; font-weight: bold\">[</span><span style=\"color: #000080; text-decoration-color: #000080\">NiftiLabelsMasker.wrapped</span><span style=\"color: #000080; text-decoration-color: #000080; font-weight: bold\">]</span> loading data from \n",
       "<span style=\"color: #800080; text-decoration-color: #800080\">/Users/sdemirka/nilearn_data/schaefer_2018/</span><span style=\"color: #ff00ff; text-decoration-color: #ff00ff\">Schaefer2018_100Parcels_7Networks_order_FSLMNI152_2mm.nii.gz</span>\n",
       "</pre>\n"
      ],
      "text/plain": [
       "\u001b[1;34m[\u001b[0m\u001b[34mNiftiLabelsMasker.wrapped\u001b[0m\u001b[1;34m]\u001b[0m loading data from \n",
       "\u001b[35m/Users/sdemirka/nilearn_data/schaefer_2018/\u001b[0m\u001b[95mSchaefer2018_100Parcels_7Networks_order_FSLMNI152_2mm.nii.gz\u001b[0m\n"
      ]
     },
     "metadata": {},
     "output_type": "display_data"
    },
    {
     "data": {
      "text/html": [
       "<pre style=\"white-space:pre;overflow-x:auto;line-height:normal;font-family:Menlo,'DejaVu Sans Mono',consolas,'Courier New',monospace\"><span style=\"color: #000080; text-decoration-color: #000080; font-weight: bold\">[</span><span style=\"color: #000080; text-decoration-color: #000080\">NiftiLabelsMasker.wrapped</span><span style=\"color: #000080; text-decoration-color: #000080; font-weight: bold\">]</span> loading data from \n",
       "<span style=\"color: #800080; text-decoration-color: #800080\">/Users/sdemirka/nilearn_data/schaefer_2018/</span><span style=\"color: #ff00ff; text-decoration-color: #ff00ff\">Schaefer2018_100Parcels_7Networks_order_FSLMNI152_2mm.nii.gz</span>\n",
       "</pre>\n"
      ],
      "text/plain": [
       "\u001b[1;34m[\u001b[0m\u001b[34mNiftiLabelsMasker.wrapped\u001b[0m\u001b[1;34m]\u001b[0m loading data from \n",
       "\u001b[35m/Users/sdemirka/nilearn_data/schaefer_2018/\u001b[0m\u001b[95mSchaefer2018_100Parcels_7Networks_order_FSLMNI152_2mm.nii.gz\u001b[0m\n"
      ]
     },
     "metadata": {},
     "output_type": "display_data"
    },
    {
     "data": {
      "text/html": [
       "<pre style=\"white-space:pre;overflow-x:auto;line-height:normal;font-family:Menlo,'DejaVu Sans Mono',consolas,'Courier New',monospace\"><span style=\"color: #000080; text-decoration-color: #000080; font-weight: bold\">[</span><span style=\"color: #000080; text-decoration-color: #000080\">NiftiLabelsMasker.wrapped</span><span style=\"color: #000080; text-decoration-color: #000080; font-weight: bold\">]</span> loading data from \n",
       "<span style=\"color: #800080; text-decoration-color: #800080\">/Users/sdemirka/nilearn_data/schaefer_2018/</span><span style=\"color: #ff00ff; text-decoration-color: #ff00ff\">Schaefer2018_100Parcels_7Networks_order_FSLMNI152_2mm.nii.gz</span>\n",
       "</pre>\n"
      ],
      "text/plain": [
       "\u001b[1;34m[\u001b[0m\u001b[34mNiftiLabelsMasker.wrapped\u001b[0m\u001b[1;34m]\u001b[0m loading data from \n",
       "\u001b[35m/Users/sdemirka/nilearn_data/schaefer_2018/\u001b[0m\u001b[95mSchaefer2018_100Parcels_7Networks_order_FSLMNI152_2mm.nii.gz\u001b[0m\n"
      ]
     },
     "metadata": {},
     "output_type": "display_data"
    },
    {
     "data": {
      "text/html": [
       "<pre style=\"white-space:pre;overflow-x:auto;line-height:normal;font-family:Menlo,'DejaVu Sans Mono',consolas,'Courier New',monospace\"><span style=\"color: #000080; text-decoration-color: #000080; font-weight: bold\">[</span><span style=\"color: #000080; text-decoration-color: #000080\">NiftiLabelsMasker.wrapped</span><span style=\"color: #000080; text-decoration-color: #000080; font-weight: bold\">]</span> loading data from \n",
       "<span style=\"color: #800080; text-decoration-color: #800080\">/Users/sdemirka/nilearn_data/schaefer_2018/</span><span style=\"color: #ff00ff; text-decoration-color: #ff00ff\">Schaefer2018_100Parcels_7Networks_order_FSLMNI152_2mm.nii.gz</span>\n",
       "</pre>\n"
      ],
      "text/plain": [
       "\u001b[1;34m[\u001b[0m\u001b[34mNiftiLabelsMasker.wrapped\u001b[0m\u001b[1;34m]\u001b[0m loading data from \n",
       "\u001b[35m/Users/sdemirka/nilearn_data/schaefer_2018/\u001b[0m\u001b[95mSchaefer2018_100Parcels_7Networks_order_FSLMNI152_2mm.nii.gz\u001b[0m\n"
      ]
     },
     "metadata": {},
     "output_type": "display_data"
    },
    {
     "data": {
      "text/html": [
       "<pre style=\"white-space:pre;overflow-x:auto;line-height:normal;font-family:Menlo,'DejaVu Sans Mono',consolas,'Courier New',monospace\"><span style=\"color: #000080; text-decoration-color: #000080; font-weight: bold\">[</span><span style=\"color: #000080; text-decoration-color: #000080\">NiftiLabelsMasker.wrapped</span><span style=\"color: #000080; text-decoration-color: #000080; font-weight: bold\">]</span> loading data from \n",
       "<span style=\"color: #800080; text-decoration-color: #800080\">/Users/sdemirka/nilearn_data/schaefer_2018/</span><span style=\"color: #ff00ff; text-decoration-color: #ff00ff\">Schaefer2018_100Parcels_7Networks_order_FSLMNI152_2mm.nii.gz</span>\n",
       "</pre>\n"
      ],
      "text/plain": [
       "\u001b[1;34m[\u001b[0m\u001b[34mNiftiLabelsMasker.wrapped\u001b[0m\u001b[1;34m]\u001b[0m loading data from \n",
       "\u001b[35m/Users/sdemirka/nilearn_data/schaefer_2018/\u001b[0m\u001b[95mSchaefer2018_100Parcels_7Networks_order_FSLMNI152_2mm.nii.gz\u001b[0m\n"
      ]
     },
     "metadata": {},
     "output_type": "display_data"
    },
    {
     "data": {
      "text/html": [
       "<pre style=\"white-space:pre;overflow-x:auto;line-height:normal;font-family:Menlo,'DejaVu Sans Mono',consolas,'Courier New',monospace\"><span style=\"color: #000080; text-decoration-color: #000080; font-weight: bold\">[</span><span style=\"color: #000080; text-decoration-color: #000080\">NiftiLabelsMasker.wrapped</span><span style=\"color: #000080; text-decoration-color: #000080; font-weight: bold\">]</span> loading data from \n",
       "<span style=\"color: #800080; text-decoration-color: #800080\">/Users/sdemirka/nilearn_data/schaefer_2018/</span><span style=\"color: #ff00ff; text-decoration-color: #ff00ff\">Schaefer2018_100Parcels_7Networks_order_FSLMNI152_2mm.nii.gz</span>\n",
       "</pre>\n"
      ],
      "text/plain": [
       "\u001b[1;34m[\u001b[0m\u001b[34mNiftiLabelsMasker.wrapped\u001b[0m\u001b[1;34m]\u001b[0m loading data from \n",
       "\u001b[35m/Users/sdemirka/nilearn_data/schaefer_2018/\u001b[0m\u001b[95mSchaefer2018_100Parcels_7Networks_order_FSLMNI152_2mm.nii.gz\u001b[0m\n"
      ]
     },
     "metadata": {},
     "output_type": "display_data"
    },
    {
     "data": {
      "text/html": [
       "<pre style=\"white-space:pre;overflow-x:auto;line-height:normal;font-family:Menlo,'DejaVu Sans Mono',consolas,'Courier New',monospace\"><span style=\"color: #000080; text-decoration-color: #000080; font-weight: bold\">[</span><span style=\"color: #000080; text-decoration-color: #000080\">NiftiLabelsMasker.wrapped</span><span style=\"color: #000080; text-decoration-color: #000080; font-weight: bold\">]</span> loading data from \n",
       "<span style=\"color: #800080; text-decoration-color: #800080\">/Users/sdemirka/nilearn_data/schaefer_2018/</span><span style=\"color: #ff00ff; text-decoration-color: #ff00ff\">Schaefer2018_100Parcels_7Networks_order_FSLMNI152_2mm.nii.gz</span>\n",
       "</pre>\n"
      ],
      "text/plain": [
       "\u001b[1;34m[\u001b[0m\u001b[34mNiftiLabelsMasker.wrapped\u001b[0m\u001b[1;34m]\u001b[0m loading data from \n",
       "\u001b[35m/Users/sdemirka/nilearn_data/schaefer_2018/\u001b[0m\u001b[95mSchaefer2018_100Parcels_7Networks_order_FSLMNI152_2mm.nii.gz\u001b[0m\n"
      ]
     },
     "metadata": {},
     "output_type": "display_data"
    },
    {
     "data": {
      "text/html": [
       "<pre style=\"white-space:pre;overflow-x:auto;line-height:normal;font-family:Menlo,'DejaVu Sans Mono',consolas,'Courier New',monospace\"><span style=\"color: #000080; text-decoration-color: #000080; font-weight: bold\">[</span><span style=\"color: #000080; text-decoration-color: #000080\">NiftiLabelsMasker.wrapped</span><span style=\"color: #000080; text-decoration-color: #000080; font-weight: bold\">]</span> loading data from \n",
       "<span style=\"color: #800080; text-decoration-color: #800080\">/Users/sdemirka/nilearn_data/schaefer_2018/</span><span style=\"color: #ff00ff; text-decoration-color: #ff00ff\">Schaefer2018_100Parcels_7Networks_order_FSLMNI152_2mm.nii.gz</span>\n",
       "</pre>\n"
      ],
      "text/plain": [
       "\u001b[1;34m[\u001b[0m\u001b[34mNiftiLabelsMasker.wrapped\u001b[0m\u001b[1;34m]\u001b[0m loading data from \n",
       "\u001b[35m/Users/sdemirka/nilearn_data/schaefer_2018/\u001b[0m\u001b[95mSchaefer2018_100Parcels_7Networks_order_FSLMNI152_2mm.nii.gz\u001b[0m\n"
      ]
     },
     "metadata": {},
     "output_type": "display_data"
    },
    {
     "data": {
      "text/html": [
       "<pre style=\"white-space:pre;overflow-x:auto;line-height:normal;font-family:Menlo,'DejaVu Sans Mono',consolas,'Courier New',monospace\"><span style=\"color: #000080; text-decoration-color: #000080; font-weight: bold\">[</span><span style=\"color: #000080; text-decoration-color: #000080\">NiftiLabelsMasker.wrapped</span><span style=\"color: #000080; text-decoration-color: #000080; font-weight: bold\">]</span> loading data from \n",
       "<span style=\"color: #800080; text-decoration-color: #800080\">/Users/sdemirka/nilearn_data/schaefer_2018/</span><span style=\"color: #ff00ff; text-decoration-color: #ff00ff\">Schaefer2018_100Parcels_7Networks_order_FSLMNI152_2mm.nii.gz</span>\n",
       "</pre>\n"
      ],
      "text/plain": [
       "\u001b[1;34m[\u001b[0m\u001b[34mNiftiLabelsMasker.wrapped\u001b[0m\u001b[1;34m]\u001b[0m loading data from \n",
       "\u001b[35m/Users/sdemirka/nilearn_data/schaefer_2018/\u001b[0m\u001b[95mSchaefer2018_100Parcels_7Networks_order_FSLMNI152_2mm.nii.gz\u001b[0m\n"
      ]
     },
     "metadata": {},
     "output_type": "display_data"
    },
    {
     "data": {
      "text/html": [
       "<pre style=\"white-space:pre;overflow-x:auto;line-height:normal;font-family:Menlo,'DejaVu Sans Mono',consolas,'Courier New',monospace\"><span style=\"color: #000080; text-decoration-color: #000080; font-weight: bold\">[</span><span style=\"color: #000080; text-decoration-color: #000080\">NiftiLabelsMasker.wrapped</span><span style=\"color: #000080; text-decoration-color: #000080; font-weight: bold\">]</span> loading data from \n",
       "<span style=\"color: #800080; text-decoration-color: #800080\">/Users/sdemirka/nilearn_data/schaefer_2018/</span><span style=\"color: #ff00ff; text-decoration-color: #ff00ff\">Schaefer2018_100Parcels_7Networks_order_FSLMNI152_2mm.nii.gz</span>\n",
       "</pre>\n"
      ],
      "text/plain": [
       "\u001b[1;34m[\u001b[0m\u001b[34mNiftiLabelsMasker.wrapped\u001b[0m\u001b[1;34m]\u001b[0m loading data from \n",
       "\u001b[35m/Users/sdemirka/nilearn_data/schaefer_2018/\u001b[0m\u001b[95mSchaefer2018_100Parcels_7Networks_order_FSLMNI152_2mm.nii.gz\u001b[0m\n"
      ]
     },
     "metadata": {},
     "output_type": "display_data"
    },
    {
     "data": {
      "text/html": [
       "<pre style=\"white-space:pre;overflow-x:auto;line-height:normal;font-family:Menlo,'DejaVu Sans Mono',consolas,'Courier New',monospace\"><span style=\"color: #000080; text-decoration-color: #000080; font-weight: bold\">[</span><span style=\"color: #000080; text-decoration-color: #000080\">NiftiLabelsMasker.wrapped</span><span style=\"color: #000080; text-decoration-color: #000080; font-weight: bold\">]</span> loading data from \n",
       "<span style=\"color: #800080; text-decoration-color: #800080\">/Users/sdemirka/nilearn_data/schaefer_2018/</span><span style=\"color: #ff00ff; text-decoration-color: #ff00ff\">Schaefer2018_100Parcels_7Networks_order_FSLMNI152_2mm.nii.gz</span>\n",
       "</pre>\n"
      ],
      "text/plain": [
       "\u001b[1;34m[\u001b[0m\u001b[34mNiftiLabelsMasker.wrapped\u001b[0m\u001b[1;34m]\u001b[0m loading data from \n",
       "\u001b[35m/Users/sdemirka/nilearn_data/schaefer_2018/\u001b[0m\u001b[95mSchaefer2018_100Parcels_7Networks_order_FSLMNI152_2mm.nii.gz\u001b[0m\n"
      ]
     },
     "metadata": {},
     "output_type": "display_data"
    },
    {
     "data": {
      "text/html": [
       "<pre style=\"white-space:pre;overflow-x:auto;line-height:normal;font-family:Menlo,'DejaVu Sans Mono',consolas,'Courier New',monospace\"><span style=\"color: #000080; text-decoration-color: #000080; font-weight: bold\">[</span><span style=\"color: #000080; text-decoration-color: #000080\">NiftiLabelsMasker.wrapped</span><span style=\"color: #000080; text-decoration-color: #000080; font-weight: bold\">]</span> loading data from \n",
       "<span style=\"color: #800080; text-decoration-color: #800080\">/Users/sdemirka/nilearn_data/schaefer_2018/</span><span style=\"color: #ff00ff; text-decoration-color: #ff00ff\">Schaefer2018_100Parcels_7Networks_order_FSLMNI152_2mm.nii.gz</span>\n",
       "</pre>\n"
      ],
      "text/plain": [
       "\u001b[1;34m[\u001b[0m\u001b[34mNiftiLabelsMasker.wrapped\u001b[0m\u001b[1;34m]\u001b[0m loading data from \n",
       "\u001b[35m/Users/sdemirka/nilearn_data/schaefer_2018/\u001b[0m\u001b[95mSchaefer2018_100Parcels_7Networks_order_FSLMNI152_2mm.nii.gz\u001b[0m\n"
      ]
     },
     "metadata": {},
     "output_type": "display_data"
    },
    {
     "data": {
      "text/html": [
       "<pre style=\"white-space:pre;overflow-x:auto;line-height:normal;font-family:Menlo,'DejaVu Sans Mono',consolas,'Courier New',monospace\"><span style=\"color: #000080; text-decoration-color: #000080; font-weight: bold\">[</span><span style=\"color: #000080; text-decoration-color: #000080\">NiftiLabelsMasker.wrapped</span><span style=\"color: #000080; text-decoration-color: #000080; font-weight: bold\">]</span> loading data from \n",
       "<span style=\"color: #800080; text-decoration-color: #800080\">/Users/sdemirka/nilearn_data/schaefer_2018/</span><span style=\"color: #ff00ff; text-decoration-color: #ff00ff\">Schaefer2018_100Parcels_7Networks_order_FSLMNI152_2mm.nii.gz</span>\n",
       "</pre>\n"
      ],
      "text/plain": [
       "\u001b[1;34m[\u001b[0m\u001b[34mNiftiLabelsMasker.wrapped\u001b[0m\u001b[1;34m]\u001b[0m loading data from \n",
       "\u001b[35m/Users/sdemirka/nilearn_data/schaefer_2018/\u001b[0m\u001b[95mSchaefer2018_100Parcels_7Networks_order_FSLMNI152_2mm.nii.gz\u001b[0m\n"
      ]
     },
     "metadata": {},
     "output_type": "display_data"
    },
    {
     "data": {
      "text/html": [
       "<pre style=\"white-space:pre;overflow-x:auto;line-height:normal;font-family:Menlo,'DejaVu Sans Mono',consolas,'Courier New',monospace\"><span style=\"color: #000080; text-decoration-color: #000080; font-weight: bold\">[</span><span style=\"color: #000080; text-decoration-color: #000080\">NiftiLabelsMasker.wrapped</span><span style=\"color: #000080; text-decoration-color: #000080; font-weight: bold\">]</span> loading data from \n",
       "<span style=\"color: #800080; text-decoration-color: #800080\">/Users/sdemirka/nilearn_data/schaefer_2018/</span><span style=\"color: #ff00ff; text-decoration-color: #ff00ff\">Schaefer2018_100Parcels_7Networks_order_FSLMNI152_2mm.nii.gz</span>\n",
       "</pre>\n"
      ],
      "text/plain": [
       "\u001b[1;34m[\u001b[0m\u001b[34mNiftiLabelsMasker.wrapped\u001b[0m\u001b[1;34m]\u001b[0m loading data from \n",
       "\u001b[35m/Users/sdemirka/nilearn_data/schaefer_2018/\u001b[0m\u001b[95mSchaefer2018_100Parcels_7Networks_order_FSLMNI152_2mm.nii.gz\u001b[0m\n"
      ]
     },
     "metadata": {},
     "output_type": "display_data"
    },
    {
     "data": {
      "text/html": [
       "<pre style=\"white-space:pre;overflow-x:auto;line-height:normal;font-family:Menlo,'DejaVu Sans Mono',consolas,'Courier New',monospace\"><span style=\"color: #000080; text-decoration-color: #000080; font-weight: bold\">[</span><span style=\"color: #000080; text-decoration-color: #000080\">NiftiLabelsMasker.wrapped</span><span style=\"color: #000080; text-decoration-color: #000080; font-weight: bold\">]</span> loading data from \n",
       "<span style=\"color: #800080; text-decoration-color: #800080\">/Users/sdemirka/nilearn_data/schaefer_2018/</span><span style=\"color: #ff00ff; text-decoration-color: #ff00ff\">Schaefer2018_100Parcels_7Networks_order_FSLMNI152_2mm.nii.gz</span>\n",
       "</pre>\n"
      ],
      "text/plain": [
       "\u001b[1;34m[\u001b[0m\u001b[34mNiftiLabelsMasker.wrapped\u001b[0m\u001b[1;34m]\u001b[0m loading data from \n",
       "\u001b[35m/Users/sdemirka/nilearn_data/schaefer_2018/\u001b[0m\u001b[95mSchaefer2018_100Parcels_7Networks_order_FSLMNI152_2mm.nii.gz\u001b[0m\n"
      ]
     },
     "metadata": {},
     "output_type": "display_data"
    },
    {
     "data": {
      "text/html": [
       "<pre style=\"white-space:pre;overflow-x:auto;line-height:normal;font-family:Menlo,'DejaVu Sans Mono',consolas,'Courier New',monospace\"><span style=\"color: #000080; text-decoration-color: #000080; font-weight: bold\">[</span><span style=\"color: #000080; text-decoration-color: #000080\">NiftiLabelsMasker.wrapped</span><span style=\"color: #000080; text-decoration-color: #000080; font-weight: bold\">]</span> loading data from \n",
       "<span style=\"color: #800080; text-decoration-color: #800080\">/Users/sdemirka/nilearn_data/schaefer_2018/</span><span style=\"color: #ff00ff; text-decoration-color: #ff00ff\">Schaefer2018_100Parcels_7Networks_order_FSLMNI152_2mm.nii.gz</span>\n",
       "</pre>\n"
      ],
      "text/plain": [
       "\u001b[1;34m[\u001b[0m\u001b[34mNiftiLabelsMasker.wrapped\u001b[0m\u001b[1;34m]\u001b[0m loading data from \n",
       "\u001b[35m/Users/sdemirka/nilearn_data/schaefer_2018/\u001b[0m\u001b[95mSchaefer2018_100Parcels_7Networks_order_FSLMNI152_2mm.nii.gz\u001b[0m\n"
      ]
     },
     "metadata": {},
     "output_type": "display_data"
    },
    {
     "data": {
      "text/html": [
       "<pre style=\"white-space:pre;overflow-x:auto;line-height:normal;font-family:Menlo,'DejaVu Sans Mono',consolas,'Courier New',monospace\"><span style=\"color: #000080; text-decoration-color: #000080; font-weight: bold\">[</span><span style=\"color: #000080; text-decoration-color: #000080\">NiftiLabelsMasker.wrapped</span><span style=\"color: #000080; text-decoration-color: #000080; font-weight: bold\">]</span> loading data from \n",
       "<span style=\"color: #800080; text-decoration-color: #800080\">/Users/sdemirka/nilearn_data/schaefer_2018/</span><span style=\"color: #ff00ff; text-decoration-color: #ff00ff\">Schaefer2018_100Parcels_7Networks_order_FSLMNI152_2mm.nii.gz</span>\n",
       "</pre>\n"
      ],
      "text/plain": [
       "\u001b[1;34m[\u001b[0m\u001b[34mNiftiLabelsMasker.wrapped\u001b[0m\u001b[1;34m]\u001b[0m loading data from \n",
       "\u001b[35m/Users/sdemirka/nilearn_data/schaefer_2018/\u001b[0m\u001b[95mSchaefer2018_100Parcels_7Networks_order_FSLMNI152_2mm.nii.gz\u001b[0m\n"
      ]
     },
     "metadata": {},
     "output_type": "display_data"
    },
    {
     "data": {
      "text/html": [
       "<pre style=\"white-space:pre;overflow-x:auto;line-height:normal;font-family:Menlo,'DejaVu Sans Mono',consolas,'Courier New',monospace\"><span style=\"color: #000080; text-decoration-color: #000080; font-weight: bold\">[</span><span style=\"color: #000080; text-decoration-color: #000080\">NiftiLabelsMasker.wrapped</span><span style=\"color: #000080; text-decoration-color: #000080; font-weight: bold\">]</span> loading data from \n",
       "<span style=\"color: #800080; text-decoration-color: #800080\">/Users/sdemirka/nilearn_data/schaefer_2018/</span><span style=\"color: #ff00ff; text-decoration-color: #ff00ff\">Schaefer2018_100Parcels_7Networks_order_FSLMNI152_2mm.nii.gz</span>\n",
       "</pre>\n"
      ],
      "text/plain": [
       "\u001b[1;34m[\u001b[0m\u001b[34mNiftiLabelsMasker.wrapped\u001b[0m\u001b[1;34m]\u001b[0m loading data from \n",
       "\u001b[35m/Users/sdemirka/nilearn_data/schaefer_2018/\u001b[0m\u001b[95mSchaefer2018_100Parcels_7Networks_order_FSLMNI152_2mm.nii.gz\u001b[0m\n"
      ]
     },
     "metadata": {},
     "output_type": "display_data"
    },
    {
     "data": {
      "text/html": [
       "<pre style=\"white-space:pre;overflow-x:auto;line-height:normal;font-family:Menlo,'DejaVu Sans Mono',consolas,'Courier New',monospace\"><span style=\"color: #000080; text-decoration-color: #000080; font-weight: bold\">[</span><span style=\"color: #000080; text-decoration-color: #000080\">NiftiLabelsMasker.wrapped</span><span style=\"color: #000080; text-decoration-color: #000080; font-weight: bold\">]</span> loading data from \n",
       "<span style=\"color: #800080; text-decoration-color: #800080\">/Users/sdemirka/nilearn_data/schaefer_2018/</span><span style=\"color: #ff00ff; text-decoration-color: #ff00ff\">Schaefer2018_100Parcels_7Networks_order_FSLMNI152_2mm.nii.gz</span>\n",
       "</pre>\n"
      ],
      "text/plain": [
       "\u001b[1;34m[\u001b[0m\u001b[34mNiftiLabelsMasker.wrapped\u001b[0m\u001b[1;34m]\u001b[0m loading data from \n",
       "\u001b[35m/Users/sdemirka/nilearn_data/schaefer_2018/\u001b[0m\u001b[95mSchaefer2018_100Parcels_7Networks_order_FSLMNI152_2mm.nii.gz\u001b[0m\n"
      ]
     },
     "metadata": {},
     "output_type": "display_data"
    },
    {
     "data": {
      "text/html": [
       "<pre style=\"white-space:pre;overflow-x:auto;line-height:normal;font-family:Menlo,'DejaVu Sans Mono',consolas,'Courier New',monospace\"><span style=\"color: #000080; text-decoration-color: #000080; font-weight: bold\">[</span><span style=\"color: #000080; text-decoration-color: #000080\">NiftiLabelsMasker.wrapped</span><span style=\"color: #000080; text-decoration-color: #000080; font-weight: bold\">]</span> loading data from \n",
       "<span style=\"color: #800080; text-decoration-color: #800080\">/Users/sdemirka/nilearn_data/schaefer_2018/</span><span style=\"color: #ff00ff; text-decoration-color: #ff00ff\">Schaefer2018_100Parcels_7Networks_order_FSLMNI152_2mm.nii.gz</span>\n",
       "</pre>\n"
      ],
      "text/plain": [
       "\u001b[1;34m[\u001b[0m\u001b[34mNiftiLabelsMasker.wrapped\u001b[0m\u001b[1;34m]\u001b[0m loading data from \n",
       "\u001b[35m/Users/sdemirka/nilearn_data/schaefer_2018/\u001b[0m\u001b[95mSchaefer2018_100Parcels_7Networks_order_FSLMNI152_2mm.nii.gz\u001b[0m\n"
      ]
     },
     "metadata": {},
     "output_type": "display_data"
    },
    {
     "data": {
      "text/html": [
       "<pre style=\"white-space:pre;overflow-x:auto;line-height:normal;font-family:Menlo,'DejaVu Sans Mono',consolas,'Courier New',monospace\"><span style=\"color: #000080; text-decoration-color: #000080; font-weight: bold\">[</span><span style=\"color: #000080; text-decoration-color: #000080\">NiftiLabelsMasker.wrapped</span><span style=\"color: #000080; text-decoration-color: #000080; font-weight: bold\">]</span> loading data from \n",
       "<span style=\"color: #800080; text-decoration-color: #800080\">/Users/sdemirka/nilearn_data/schaefer_2018/</span><span style=\"color: #ff00ff; text-decoration-color: #ff00ff\">Schaefer2018_100Parcels_7Networks_order_FSLMNI152_2mm.nii.gz</span>\n",
       "</pre>\n"
      ],
      "text/plain": [
       "\u001b[1;34m[\u001b[0m\u001b[34mNiftiLabelsMasker.wrapped\u001b[0m\u001b[1;34m]\u001b[0m loading data from \n",
       "\u001b[35m/Users/sdemirka/nilearn_data/schaefer_2018/\u001b[0m\u001b[95mSchaefer2018_100Parcels_7Networks_order_FSLMNI152_2mm.nii.gz\u001b[0m\n"
      ]
     },
     "metadata": {},
     "output_type": "display_data"
    },
    {
     "data": {
      "text/html": [
       "<pre style=\"white-space:pre;overflow-x:auto;line-height:normal;font-family:Menlo,'DejaVu Sans Mono',consolas,'Courier New',monospace\"><span style=\"color: #000080; text-decoration-color: #000080; font-weight: bold\">[</span><span style=\"color: #000080; text-decoration-color: #000080\">NiftiLabelsMasker.wrapped</span><span style=\"color: #000080; text-decoration-color: #000080; font-weight: bold\">]</span> loading data from \n",
       "<span style=\"color: #800080; text-decoration-color: #800080\">/Users/sdemirka/nilearn_data/schaefer_2018/</span><span style=\"color: #ff00ff; text-decoration-color: #ff00ff\">Schaefer2018_100Parcels_7Networks_order_FSLMNI152_2mm.nii.gz</span>\n",
       "</pre>\n"
      ],
      "text/plain": [
       "\u001b[1;34m[\u001b[0m\u001b[34mNiftiLabelsMasker.wrapped\u001b[0m\u001b[1;34m]\u001b[0m loading data from \n",
       "\u001b[35m/Users/sdemirka/nilearn_data/schaefer_2018/\u001b[0m\u001b[95mSchaefer2018_100Parcels_7Networks_order_FSLMNI152_2mm.nii.gz\u001b[0m\n"
      ]
     },
     "metadata": {},
     "output_type": "display_data"
    },
    {
     "data": {
      "text/html": [
       "<pre style=\"white-space:pre;overflow-x:auto;line-height:normal;font-family:Menlo,'DejaVu Sans Mono',consolas,'Courier New',monospace\"><span style=\"color: #000080; text-decoration-color: #000080; font-weight: bold\">[</span><span style=\"color: #000080; text-decoration-color: #000080\">NiftiLabelsMasker.wrapped</span><span style=\"color: #000080; text-decoration-color: #000080; font-weight: bold\">]</span> loading data from \n",
       "<span style=\"color: #800080; text-decoration-color: #800080\">/Users/sdemirka/nilearn_data/schaefer_2018/</span><span style=\"color: #ff00ff; text-decoration-color: #ff00ff\">Schaefer2018_100Parcels_7Networks_order_FSLMNI152_2mm.nii.gz</span>\n",
       "</pre>\n"
      ],
      "text/plain": [
       "\u001b[1;34m[\u001b[0m\u001b[34mNiftiLabelsMasker.wrapped\u001b[0m\u001b[1;34m]\u001b[0m loading data from \n",
       "\u001b[35m/Users/sdemirka/nilearn_data/schaefer_2018/\u001b[0m\u001b[95mSchaefer2018_100Parcels_7Networks_order_FSLMNI152_2mm.nii.gz\u001b[0m\n"
      ]
     },
     "metadata": {},
     "output_type": "display_data"
    },
    {
     "data": {
      "text/html": [
       "<pre style=\"white-space:pre;overflow-x:auto;line-height:normal;font-family:Menlo,'DejaVu Sans Mono',consolas,'Courier New',monospace\"><span style=\"color: #000080; text-decoration-color: #000080; font-weight: bold\">[</span><span style=\"color: #000080; text-decoration-color: #000080\">NiftiLabelsMasker.wrapped</span><span style=\"color: #000080; text-decoration-color: #000080; font-weight: bold\">]</span> loading data from \n",
       "<span style=\"color: #800080; text-decoration-color: #800080\">/Users/sdemirka/nilearn_data/schaefer_2018/</span><span style=\"color: #ff00ff; text-decoration-color: #ff00ff\">Schaefer2018_100Parcels_7Networks_order_FSLMNI152_2mm.nii.gz</span>\n",
       "</pre>\n"
      ],
      "text/plain": [
       "\u001b[1;34m[\u001b[0m\u001b[34mNiftiLabelsMasker.wrapped\u001b[0m\u001b[1;34m]\u001b[0m loading data from \n",
       "\u001b[35m/Users/sdemirka/nilearn_data/schaefer_2018/\u001b[0m\u001b[95mSchaefer2018_100Parcels_7Networks_order_FSLMNI152_2mm.nii.gz\u001b[0m\n"
      ]
     },
     "metadata": {},
     "output_type": "display_data"
    },
    {
     "data": {
      "text/html": [
       "<pre style=\"white-space:pre;overflow-x:auto;line-height:normal;font-family:Menlo,'DejaVu Sans Mono',consolas,'Courier New',monospace\"><span style=\"color: #000080; text-decoration-color: #000080; font-weight: bold\">[</span><span style=\"color: #000080; text-decoration-color: #000080\">NiftiLabelsMasker.wrapped</span><span style=\"color: #000080; text-decoration-color: #000080; font-weight: bold\">]</span> loading data from \n",
       "<span style=\"color: #800080; text-decoration-color: #800080\">/Users/sdemirka/nilearn_data/schaefer_2018/</span><span style=\"color: #ff00ff; text-decoration-color: #ff00ff\">Schaefer2018_100Parcels_7Networks_order_FSLMNI152_2mm.nii.gz</span>\n",
       "</pre>\n"
      ],
      "text/plain": [
       "\u001b[1;34m[\u001b[0m\u001b[34mNiftiLabelsMasker.wrapped\u001b[0m\u001b[1;34m]\u001b[0m loading data from \n",
       "\u001b[35m/Users/sdemirka/nilearn_data/schaefer_2018/\u001b[0m\u001b[95mSchaefer2018_100Parcels_7Networks_order_FSLMNI152_2mm.nii.gz\u001b[0m\n"
      ]
     },
     "metadata": {},
     "output_type": "display_data"
    },
    {
     "data": {
      "text/html": [
       "<pre style=\"white-space:pre;overflow-x:auto;line-height:normal;font-family:Menlo,'DejaVu Sans Mono',consolas,'Courier New',monospace\"><span style=\"color: #000080; text-decoration-color: #000080; font-weight: bold\">[</span><span style=\"color: #000080; text-decoration-color: #000080\">NiftiLabelsMasker.wrapped</span><span style=\"color: #000080; text-decoration-color: #000080; font-weight: bold\">]</span> loading data from \n",
       "<span style=\"color: #800080; text-decoration-color: #800080\">/Users/sdemirka/nilearn_data/schaefer_2018/</span><span style=\"color: #ff00ff; text-decoration-color: #ff00ff\">Schaefer2018_100Parcels_7Networks_order_FSLMNI152_2mm.nii.gz</span>\n",
       "</pre>\n"
      ],
      "text/plain": [
       "\u001b[1;34m[\u001b[0m\u001b[34mNiftiLabelsMasker.wrapped\u001b[0m\u001b[1;34m]\u001b[0m loading data from \n",
       "\u001b[35m/Users/sdemirka/nilearn_data/schaefer_2018/\u001b[0m\u001b[95mSchaefer2018_100Parcels_7Networks_order_FSLMNI152_2mm.nii.gz\u001b[0m\n"
      ]
     },
     "metadata": {},
     "output_type": "display_data"
    },
    {
     "data": {
      "text/html": [
       "<pre style=\"white-space:pre;overflow-x:auto;line-height:normal;font-family:Menlo,'DejaVu Sans Mono',consolas,'Courier New',monospace\"><span style=\"color: #000080; text-decoration-color: #000080; font-weight: bold\">[</span><span style=\"color: #000080; text-decoration-color: #000080\">NiftiLabelsMasker.wrapped</span><span style=\"color: #000080; text-decoration-color: #000080; font-weight: bold\">]</span> loading data from \n",
       "<span style=\"color: #800080; text-decoration-color: #800080\">/Users/sdemirka/nilearn_data/schaefer_2018/</span><span style=\"color: #ff00ff; text-decoration-color: #ff00ff\">Schaefer2018_100Parcels_7Networks_order_FSLMNI152_2mm.nii.gz</span>\n",
       "</pre>\n"
      ],
      "text/plain": [
       "\u001b[1;34m[\u001b[0m\u001b[34mNiftiLabelsMasker.wrapped\u001b[0m\u001b[1;34m]\u001b[0m loading data from \n",
       "\u001b[35m/Users/sdemirka/nilearn_data/schaefer_2018/\u001b[0m\u001b[95mSchaefer2018_100Parcels_7Networks_order_FSLMNI152_2mm.nii.gz\u001b[0m\n"
      ]
     },
     "metadata": {},
     "output_type": "display_data"
    },
    {
     "data": {
      "text/html": [
       "<pre style=\"white-space:pre;overflow-x:auto;line-height:normal;font-family:Menlo,'DejaVu Sans Mono',consolas,'Courier New',monospace\"><span style=\"color: #000080; text-decoration-color: #000080; font-weight: bold\">[</span><span style=\"color: #000080; text-decoration-color: #000080\">NiftiLabelsMasker.wrapped</span><span style=\"color: #000080; text-decoration-color: #000080; font-weight: bold\">]</span> loading data from \n",
       "<span style=\"color: #800080; text-decoration-color: #800080\">/Users/sdemirka/nilearn_data/schaefer_2018/</span><span style=\"color: #ff00ff; text-decoration-color: #ff00ff\">Schaefer2018_100Parcels_7Networks_order_FSLMNI152_2mm.nii.gz</span>\n",
       "</pre>\n"
      ],
      "text/plain": [
       "\u001b[1;34m[\u001b[0m\u001b[34mNiftiLabelsMasker.wrapped\u001b[0m\u001b[1;34m]\u001b[0m loading data from \n",
       "\u001b[35m/Users/sdemirka/nilearn_data/schaefer_2018/\u001b[0m\u001b[95mSchaefer2018_100Parcels_7Networks_order_FSLMNI152_2mm.nii.gz\u001b[0m\n"
      ]
     },
     "metadata": {},
     "output_type": "display_data"
    },
    {
     "data": {
      "text/html": [
       "<pre style=\"white-space:pre;overflow-x:auto;line-height:normal;font-family:Menlo,'DejaVu Sans Mono',consolas,'Courier New',monospace\"><span style=\"color: #000080; text-decoration-color: #000080; font-weight: bold\">[</span><span style=\"color: #000080; text-decoration-color: #000080\">NiftiLabelsMasker.wrapped</span><span style=\"color: #000080; text-decoration-color: #000080; font-weight: bold\">]</span> loading data from \n",
       "<span style=\"color: #800080; text-decoration-color: #800080\">/Users/sdemirka/nilearn_data/schaefer_2018/</span><span style=\"color: #ff00ff; text-decoration-color: #ff00ff\">Schaefer2018_100Parcels_7Networks_order_FSLMNI152_2mm.nii.gz</span>\n",
       "</pre>\n"
      ],
      "text/plain": [
       "\u001b[1;34m[\u001b[0m\u001b[34mNiftiLabelsMasker.wrapped\u001b[0m\u001b[1;34m]\u001b[0m loading data from \n",
       "\u001b[35m/Users/sdemirka/nilearn_data/schaefer_2018/\u001b[0m\u001b[95mSchaefer2018_100Parcels_7Networks_order_FSLMNI152_2mm.nii.gz\u001b[0m\n"
      ]
     },
     "metadata": {},
     "output_type": "display_data"
    },
    {
     "data": {
      "text/html": [
       "<pre style=\"white-space:pre;overflow-x:auto;line-height:normal;font-family:Menlo,'DejaVu Sans Mono',consolas,'Courier New',monospace\"><span style=\"color: #000080; text-decoration-color: #000080; font-weight: bold\">[</span><span style=\"color: #000080; text-decoration-color: #000080\">NiftiLabelsMasker.wrapped</span><span style=\"color: #000080; text-decoration-color: #000080; font-weight: bold\">]</span> loading data from \n",
       "<span style=\"color: #800080; text-decoration-color: #800080\">/Users/sdemirka/nilearn_data/schaefer_2018/</span><span style=\"color: #ff00ff; text-decoration-color: #ff00ff\">Schaefer2018_100Parcels_7Networks_order_FSLMNI152_2mm.nii.gz</span>\n",
       "</pre>\n"
      ],
      "text/plain": [
       "\u001b[1;34m[\u001b[0m\u001b[34mNiftiLabelsMasker.wrapped\u001b[0m\u001b[1;34m]\u001b[0m loading data from \n",
       "\u001b[35m/Users/sdemirka/nilearn_data/schaefer_2018/\u001b[0m\u001b[95mSchaefer2018_100Parcels_7Networks_order_FSLMNI152_2mm.nii.gz\u001b[0m\n"
      ]
     },
     "metadata": {},
     "output_type": "display_data"
    },
    {
     "data": {
      "text/html": [
       "<pre style=\"white-space:pre;overflow-x:auto;line-height:normal;font-family:Menlo,'DejaVu Sans Mono',consolas,'Courier New',monospace\"><span style=\"color: #000080; text-decoration-color: #000080; font-weight: bold\">[</span><span style=\"color: #000080; text-decoration-color: #000080\">NiftiLabelsMasker.wrapped</span><span style=\"color: #000080; text-decoration-color: #000080; font-weight: bold\">]</span> loading data from \n",
       "<span style=\"color: #800080; text-decoration-color: #800080\">/Users/sdemirka/nilearn_data/schaefer_2018/</span><span style=\"color: #ff00ff; text-decoration-color: #ff00ff\">Schaefer2018_100Parcels_7Networks_order_FSLMNI152_2mm.nii.gz</span>\n",
       "</pre>\n"
      ],
      "text/plain": [
       "\u001b[1;34m[\u001b[0m\u001b[34mNiftiLabelsMasker.wrapped\u001b[0m\u001b[1;34m]\u001b[0m loading data from \n",
       "\u001b[35m/Users/sdemirka/nilearn_data/schaefer_2018/\u001b[0m\u001b[95mSchaefer2018_100Parcels_7Networks_order_FSLMNI152_2mm.nii.gz\u001b[0m\n"
      ]
     },
     "metadata": {},
     "output_type": "display_data"
    },
    {
     "data": {
      "text/html": [
       "<pre style=\"white-space:pre;overflow-x:auto;line-height:normal;font-family:Menlo,'DejaVu Sans Mono',consolas,'Courier New',monospace\"><span style=\"color: #000080; text-decoration-color: #000080; font-weight: bold\">[</span><span style=\"color: #000080; text-decoration-color: #000080\">NiftiLabelsMasker.wrapped</span><span style=\"color: #000080; text-decoration-color: #000080; font-weight: bold\">]</span> loading data from \n",
       "<span style=\"color: #800080; text-decoration-color: #800080\">/Users/sdemirka/nilearn_data/schaefer_2018/</span><span style=\"color: #ff00ff; text-decoration-color: #ff00ff\">Schaefer2018_100Parcels_7Networks_order_FSLMNI152_2mm.nii.gz</span>\n",
       "</pre>\n"
      ],
      "text/plain": [
       "\u001b[1;34m[\u001b[0m\u001b[34mNiftiLabelsMasker.wrapped\u001b[0m\u001b[1;34m]\u001b[0m loading data from \n",
       "\u001b[35m/Users/sdemirka/nilearn_data/schaefer_2018/\u001b[0m\u001b[95mSchaefer2018_100Parcels_7Networks_order_FSLMNI152_2mm.nii.gz\u001b[0m\n"
      ]
     },
     "metadata": {},
     "output_type": "display_data"
    },
    {
     "data": {
      "text/html": [
       "<pre style=\"white-space:pre;overflow-x:auto;line-height:normal;font-family:Menlo,'DejaVu Sans Mono',consolas,'Courier New',monospace\"><span style=\"color: #000080; text-decoration-color: #000080; font-weight: bold\">[</span><span style=\"color: #000080; text-decoration-color: #000080\">NiftiLabelsMasker.wrapped</span><span style=\"color: #000080; text-decoration-color: #000080; font-weight: bold\">]</span> loading data from \n",
       "<span style=\"color: #800080; text-decoration-color: #800080\">/Users/sdemirka/nilearn_data/schaefer_2018/</span><span style=\"color: #ff00ff; text-decoration-color: #ff00ff\">Schaefer2018_100Parcels_7Networks_order_FSLMNI152_2mm.nii.gz</span>\n",
       "</pre>\n"
      ],
      "text/plain": [
       "\u001b[1;34m[\u001b[0m\u001b[34mNiftiLabelsMasker.wrapped\u001b[0m\u001b[1;34m]\u001b[0m loading data from \n",
       "\u001b[35m/Users/sdemirka/nilearn_data/schaefer_2018/\u001b[0m\u001b[95mSchaefer2018_100Parcels_7Networks_order_FSLMNI152_2mm.nii.gz\u001b[0m\n"
      ]
     },
     "metadata": {},
     "output_type": "display_data"
    },
    {
     "data": {
      "text/html": [
       "<pre style=\"white-space:pre;overflow-x:auto;line-height:normal;font-family:Menlo,'DejaVu Sans Mono',consolas,'Courier New',monospace\"><span style=\"color: #000080; text-decoration-color: #000080; font-weight: bold\">[</span><span style=\"color: #000080; text-decoration-color: #000080\">NiftiLabelsMasker.wrapped</span><span style=\"color: #000080; text-decoration-color: #000080; font-weight: bold\">]</span> loading data from \n",
       "<span style=\"color: #800080; text-decoration-color: #800080\">/Users/sdemirka/nilearn_data/schaefer_2018/</span><span style=\"color: #ff00ff; text-decoration-color: #ff00ff\">Schaefer2018_100Parcels_7Networks_order_FSLMNI152_2mm.nii.gz</span>\n",
       "</pre>\n"
      ],
      "text/plain": [
       "\u001b[1;34m[\u001b[0m\u001b[34mNiftiLabelsMasker.wrapped\u001b[0m\u001b[1;34m]\u001b[0m loading data from \n",
       "\u001b[35m/Users/sdemirka/nilearn_data/schaefer_2018/\u001b[0m\u001b[95mSchaefer2018_100Parcels_7Networks_order_FSLMNI152_2mm.nii.gz\u001b[0m\n"
      ]
     },
     "metadata": {},
     "output_type": "display_data"
    },
    {
     "data": {
      "text/html": [
       "<pre style=\"white-space:pre;overflow-x:auto;line-height:normal;font-family:Menlo,'DejaVu Sans Mono',consolas,'Courier New',monospace\"><span style=\"color: #000080; text-decoration-color: #000080; font-weight: bold\">[</span><span style=\"color: #000080; text-decoration-color: #000080\">NiftiLabelsMasker.wrapped</span><span style=\"color: #000080; text-decoration-color: #000080; font-weight: bold\">]</span> loading data from \n",
       "<span style=\"color: #800080; text-decoration-color: #800080\">/Users/sdemirka/nilearn_data/schaefer_2018/</span><span style=\"color: #ff00ff; text-decoration-color: #ff00ff\">Schaefer2018_100Parcels_7Networks_order_FSLMNI152_2mm.nii.gz</span>\n",
       "</pre>\n"
      ],
      "text/plain": [
       "\u001b[1;34m[\u001b[0m\u001b[34mNiftiLabelsMasker.wrapped\u001b[0m\u001b[1;34m]\u001b[0m loading data from \n",
       "\u001b[35m/Users/sdemirka/nilearn_data/schaefer_2018/\u001b[0m\u001b[95mSchaefer2018_100Parcels_7Networks_order_FSLMNI152_2mm.nii.gz\u001b[0m\n"
      ]
     },
     "metadata": {},
     "output_type": "display_data"
    },
    {
     "data": {
      "text/html": [
       "<pre style=\"white-space:pre;overflow-x:auto;line-height:normal;font-family:Menlo,'DejaVu Sans Mono',consolas,'Courier New',monospace\"><span style=\"color: #000080; text-decoration-color: #000080; font-weight: bold\">[</span><span style=\"color: #000080; text-decoration-color: #000080\">NiftiLabelsMasker.wrapped</span><span style=\"color: #000080; text-decoration-color: #000080; font-weight: bold\">]</span> loading data from \n",
       "<span style=\"color: #800080; text-decoration-color: #800080\">/Users/sdemirka/nilearn_data/schaefer_2018/</span><span style=\"color: #ff00ff; text-decoration-color: #ff00ff\">Schaefer2018_100Parcels_7Networks_order_FSLMNI152_2mm.nii.gz</span>\n",
       "</pre>\n"
      ],
      "text/plain": [
       "\u001b[1;34m[\u001b[0m\u001b[34mNiftiLabelsMasker.wrapped\u001b[0m\u001b[1;34m]\u001b[0m loading data from \n",
       "\u001b[35m/Users/sdemirka/nilearn_data/schaefer_2018/\u001b[0m\u001b[95mSchaefer2018_100Parcels_7Networks_order_FSLMNI152_2mm.nii.gz\u001b[0m\n"
      ]
     },
     "metadata": {},
     "output_type": "display_data"
    },
    {
     "data": {
      "text/html": [
       "<pre style=\"white-space:pre;overflow-x:auto;line-height:normal;font-family:Menlo,'DejaVu Sans Mono',consolas,'Courier New',monospace\"><span style=\"color: #000080; text-decoration-color: #000080; font-weight: bold\">[</span><span style=\"color: #000080; text-decoration-color: #000080\">NiftiLabelsMasker.wrapped</span><span style=\"color: #000080; text-decoration-color: #000080; font-weight: bold\">]</span> loading data from \n",
       "<span style=\"color: #800080; text-decoration-color: #800080\">/Users/sdemirka/nilearn_data/schaefer_2018/</span><span style=\"color: #ff00ff; text-decoration-color: #ff00ff\">Schaefer2018_100Parcels_7Networks_order_FSLMNI152_2mm.nii.gz</span>\n",
       "</pre>\n"
      ],
      "text/plain": [
       "\u001b[1;34m[\u001b[0m\u001b[34mNiftiLabelsMasker.wrapped\u001b[0m\u001b[1;34m]\u001b[0m loading data from \n",
       "\u001b[35m/Users/sdemirka/nilearn_data/schaefer_2018/\u001b[0m\u001b[95mSchaefer2018_100Parcels_7Networks_order_FSLMNI152_2mm.nii.gz\u001b[0m\n"
      ]
     },
     "metadata": {},
     "output_type": "display_data"
    },
    {
     "data": {
      "text/html": [
       "<pre style=\"white-space:pre;overflow-x:auto;line-height:normal;font-family:Menlo,'DejaVu Sans Mono',consolas,'Courier New',monospace\"><span style=\"color: #000080; text-decoration-color: #000080; font-weight: bold\">[</span><span style=\"color: #000080; text-decoration-color: #000080\">NiftiLabelsMasker.wrapped</span><span style=\"color: #000080; text-decoration-color: #000080; font-weight: bold\">]</span> loading data from \n",
       "<span style=\"color: #800080; text-decoration-color: #800080\">/Users/sdemirka/nilearn_data/schaefer_2018/</span><span style=\"color: #ff00ff; text-decoration-color: #ff00ff\">Schaefer2018_100Parcels_7Networks_order_FSLMNI152_2mm.nii.gz</span>\n",
       "</pre>\n"
      ],
      "text/plain": [
       "\u001b[1;34m[\u001b[0m\u001b[34mNiftiLabelsMasker.wrapped\u001b[0m\u001b[1;34m]\u001b[0m loading data from \n",
       "\u001b[35m/Users/sdemirka/nilearn_data/schaefer_2018/\u001b[0m\u001b[95mSchaefer2018_100Parcels_7Networks_order_FSLMNI152_2mm.nii.gz\u001b[0m\n"
      ]
     },
     "metadata": {},
     "output_type": "display_data"
    },
    {
     "data": {
      "text/html": [
       "<pre style=\"white-space:pre;overflow-x:auto;line-height:normal;font-family:Menlo,'DejaVu Sans Mono',consolas,'Courier New',monospace\"><span style=\"color: #000080; text-decoration-color: #000080; font-weight: bold\">[</span><span style=\"color: #000080; text-decoration-color: #000080\">NiftiLabelsMasker.wrapped</span><span style=\"color: #000080; text-decoration-color: #000080; font-weight: bold\">]</span> loading data from \n",
       "<span style=\"color: #800080; text-decoration-color: #800080\">/Users/sdemirka/nilearn_data/schaefer_2018/</span><span style=\"color: #ff00ff; text-decoration-color: #ff00ff\">Schaefer2018_100Parcels_7Networks_order_FSLMNI152_2mm.nii.gz</span>\n",
       "</pre>\n"
      ],
      "text/plain": [
       "\u001b[1;34m[\u001b[0m\u001b[34mNiftiLabelsMasker.wrapped\u001b[0m\u001b[1;34m]\u001b[0m loading data from \n",
       "\u001b[35m/Users/sdemirka/nilearn_data/schaefer_2018/\u001b[0m\u001b[95mSchaefer2018_100Parcels_7Networks_order_FSLMNI152_2mm.nii.gz\u001b[0m\n"
      ]
     },
     "metadata": {},
     "output_type": "display_data"
    },
    {
     "data": {
      "text/html": [
       "<pre style=\"white-space:pre;overflow-x:auto;line-height:normal;font-family:Menlo,'DejaVu Sans Mono',consolas,'Courier New',monospace\"><span style=\"color: #000080; text-decoration-color: #000080; font-weight: bold\">[</span><span style=\"color: #000080; text-decoration-color: #000080\">NiftiLabelsMasker.wrapped</span><span style=\"color: #000080; text-decoration-color: #000080; font-weight: bold\">]</span> loading data from \n",
       "<span style=\"color: #800080; text-decoration-color: #800080\">/Users/sdemirka/nilearn_data/schaefer_2018/</span><span style=\"color: #ff00ff; text-decoration-color: #ff00ff\">Schaefer2018_100Parcels_7Networks_order_FSLMNI152_2mm.nii.gz</span>\n",
       "</pre>\n"
      ],
      "text/plain": [
       "\u001b[1;34m[\u001b[0m\u001b[34mNiftiLabelsMasker.wrapped\u001b[0m\u001b[1;34m]\u001b[0m loading data from \n",
       "\u001b[35m/Users/sdemirka/nilearn_data/schaefer_2018/\u001b[0m\u001b[95mSchaefer2018_100Parcels_7Networks_order_FSLMNI152_2mm.nii.gz\u001b[0m\n"
      ]
     },
     "metadata": {},
     "output_type": "display_data"
    },
    {
     "data": {
      "text/html": [
       "<pre style=\"white-space:pre;overflow-x:auto;line-height:normal;font-family:Menlo,'DejaVu Sans Mono',consolas,'Courier New',monospace\"><span style=\"color: #000080; text-decoration-color: #000080; font-weight: bold\">[</span><span style=\"color: #000080; text-decoration-color: #000080\">NiftiLabelsMasker.wrapped</span><span style=\"color: #000080; text-decoration-color: #000080; font-weight: bold\">]</span> loading data from \n",
       "<span style=\"color: #800080; text-decoration-color: #800080\">/Users/sdemirka/nilearn_data/schaefer_2018/</span><span style=\"color: #ff00ff; text-decoration-color: #ff00ff\">Schaefer2018_100Parcels_7Networks_order_FSLMNI152_2mm.nii.gz</span>\n",
       "</pre>\n"
      ],
      "text/plain": [
       "\u001b[1;34m[\u001b[0m\u001b[34mNiftiLabelsMasker.wrapped\u001b[0m\u001b[1;34m]\u001b[0m loading data from \n",
       "\u001b[35m/Users/sdemirka/nilearn_data/schaefer_2018/\u001b[0m\u001b[95mSchaefer2018_100Parcels_7Networks_order_FSLMNI152_2mm.nii.gz\u001b[0m\n"
      ]
     },
     "metadata": {},
     "output_type": "display_data"
    },
    {
     "data": {
      "text/html": [
       "<pre style=\"white-space:pre;overflow-x:auto;line-height:normal;font-family:Menlo,'DejaVu Sans Mono',consolas,'Courier New',monospace\"><span style=\"color: #000080; text-decoration-color: #000080; font-weight: bold\">[</span><span style=\"color: #000080; text-decoration-color: #000080\">NiftiLabelsMasker.wrapped</span><span style=\"color: #000080; text-decoration-color: #000080; font-weight: bold\">]</span> loading data from \n",
       "<span style=\"color: #800080; text-decoration-color: #800080\">/Users/sdemirka/nilearn_data/schaefer_2018/</span><span style=\"color: #ff00ff; text-decoration-color: #ff00ff\">Schaefer2018_100Parcels_7Networks_order_FSLMNI152_2mm.nii.gz</span>\n",
       "</pre>\n"
      ],
      "text/plain": [
       "\u001b[1;34m[\u001b[0m\u001b[34mNiftiLabelsMasker.wrapped\u001b[0m\u001b[1;34m]\u001b[0m loading data from \n",
       "\u001b[35m/Users/sdemirka/nilearn_data/schaefer_2018/\u001b[0m\u001b[95mSchaefer2018_100Parcels_7Networks_order_FSLMNI152_2mm.nii.gz\u001b[0m\n"
      ]
     },
     "metadata": {},
     "output_type": "display_data"
    },
    {
     "data": {
      "text/html": [
       "<pre style=\"white-space:pre;overflow-x:auto;line-height:normal;font-family:Menlo,'DejaVu Sans Mono',consolas,'Courier New',monospace\"><span style=\"color: #000080; text-decoration-color: #000080; font-weight: bold\">[</span><span style=\"color: #000080; text-decoration-color: #000080\">NiftiLabelsMasker.wrapped</span><span style=\"color: #000080; text-decoration-color: #000080; font-weight: bold\">]</span> loading data from \n",
       "<span style=\"color: #800080; text-decoration-color: #800080\">/Users/sdemirka/nilearn_data/schaefer_2018/</span><span style=\"color: #ff00ff; text-decoration-color: #ff00ff\">Schaefer2018_100Parcels_7Networks_order_FSLMNI152_2mm.nii.gz</span>\n",
       "</pre>\n"
      ],
      "text/plain": [
       "\u001b[1;34m[\u001b[0m\u001b[34mNiftiLabelsMasker.wrapped\u001b[0m\u001b[1;34m]\u001b[0m loading data from \n",
       "\u001b[35m/Users/sdemirka/nilearn_data/schaefer_2018/\u001b[0m\u001b[95mSchaefer2018_100Parcels_7Networks_order_FSLMNI152_2mm.nii.gz\u001b[0m\n"
      ]
     },
     "metadata": {},
     "output_type": "display_data"
    },
    {
     "data": {
      "text/html": [
       "<pre style=\"white-space:pre;overflow-x:auto;line-height:normal;font-family:Menlo,'DejaVu Sans Mono',consolas,'Courier New',monospace\"><span style=\"color: #000080; text-decoration-color: #000080; font-weight: bold\">[</span><span style=\"color: #000080; text-decoration-color: #000080\">NiftiLabelsMasker.wrapped</span><span style=\"color: #000080; text-decoration-color: #000080; font-weight: bold\">]</span> loading data from \n",
       "<span style=\"color: #800080; text-decoration-color: #800080\">/Users/sdemirka/nilearn_data/schaefer_2018/</span><span style=\"color: #ff00ff; text-decoration-color: #ff00ff\">Schaefer2018_100Parcels_7Networks_order_FSLMNI152_2mm.nii.gz</span>\n",
       "</pre>\n"
      ],
      "text/plain": [
       "\u001b[1;34m[\u001b[0m\u001b[34mNiftiLabelsMasker.wrapped\u001b[0m\u001b[1;34m]\u001b[0m loading data from \n",
       "\u001b[35m/Users/sdemirka/nilearn_data/schaefer_2018/\u001b[0m\u001b[95mSchaefer2018_100Parcels_7Networks_order_FSLMNI152_2mm.nii.gz\u001b[0m\n"
      ]
     },
     "metadata": {},
     "output_type": "display_data"
    },
    {
     "data": {
      "text/html": [
       "<pre style=\"white-space:pre;overflow-x:auto;line-height:normal;font-family:Menlo,'DejaVu Sans Mono',consolas,'Courier New',monospace\"><span style=\"color: #000080; text-decoration-color: #000080; font-weight: bold\">[</span><span style=\"color: #000080; text-decoration-color: #000080\">NiftiLabelsMasker.wrapped</span><span style=\"color: #000080; text-decoration-color: #000080; font-weight: bold\">]</span> loading data from \n",
       "<span style=\"color: #800080; text-decoration-color: #800080\">/Users/sdemirka/nilearn_data/schaefer_2018/</span><span style=\"color: #ff00ff; text-decoration-color: #ff00ff\">Schaefer2018_100Parcels_7Networks_order_FSLMNI152_2mm.nii.gz</span>\n",
       "</pre>\n"
      ],
      "text/plain": [
       "\u001b[1;34m[\u001b[0m\u001b[34mNiftiLabelsMasker.wrapped\u001b[0m\u001b[1;34m]\u001b[0m loading data from \n",
       "\u001b[35m/Users/sdemirka/nilearn_data/schaefer_2018/\u001b[0m\u001b[95mSchaefer2018_100Parcels_7Networks_order_FSLMNI152_2mm.nii.gz\u001b[0m\n"
      ]
     },
     "metadata": {},
     "output_type": "display_data"
    },
    {
     "data": {
      "text/html": [
       "<pre style=\"white-space:pre;overflow-x:auto;line-height:normal;font-family:Menlo,'DejaVu Sans Mono',consolas,'Courier New',monospace\"><span style=\"color: #000080; text-decoration-color: #000080; font-weight: bold\">[</span><span style=\"color: #000080; text-decoration-color: #000080\">NiftiLabelsMasker.wrapped</span><span style=\"color: #000080; text-decoration-color: #000080; font-weight: bold\">]</span> loading data from \n",
       "<span style=\"color: #800080; text-decoration-color: #800080\">/Users/sdemirka/nilearn_data/schaefer_2018/</span><span style=\"color: #ff00ff; text-decoration-color: #ff00ff\">Schaefer2018_100Parcels_7Networks_order_FSLMNI152_2mm.nii.gz</span>\n",
       "</pre>\n"
      ],
      "text/plain": [
       "\u001b[1;34m[\u001b[0m\u001b[34mNiftiLabelsMasker.wrapped\u001b[0m\u001b[1;34m]\u001b[0m loading data from \n",
       "\u001b[35m/Users/sdemirka/nilearn_data/schaefer_2018/\u001b[0m\u001b[95mSchaefer2018_100Parcels_7Networks_order_FSLMNI152_2mm.nii.gz\u001b[0m\n"
      ]
     },
     "metadata": {},
     "output_type": "display_data"
    },
    {
     "data": {
      "text/html": [
       "<pre style=\"white-space:pre;overflow-x:auto;line-height:normal;font-family:Menlo,'DejaVu Sans Mono',consolas,'Courier New',monospace\"><span style=\"color: #000080; text-decoration-color: #000080; font-weight: bold\">[</span><span style=\"color: #000080; text-decoration-color: #000080\">NiftiLabelsMasker.wrapped</span><span style=\"color: #000080; text-decoration-color: #000080; font-weight: bold\">]</span> loading data from \n",
       "<span style=\"color: #800080; text-decoration-color: #800080\">/Users/sdemirka/nilearn_data/schaefer_2018/</span><span style=\"color: #ff00ff; text-decoration-color: #ff00ff\">Schaefer2018_100Parcels_7Networks_order_FSLMNI152_2mm.nii.gz</span>\n",
       "</pre>\n"
      ],
      "text/plain": [
       "\u001b[1;34m[\u001b[0m\u001b[34mNiftiLabelsMasker.wrapped\u001b[0m\u001b[1;34m]\u001b[0m loading data from \n",
       "\u001b[35m/Users/sdemirka/nilearn_data/schaefer_2018/\u001b[0m\u001b[95mSchaefer2018_100Parcels_7Networks_order_FSLMNI152_2mm.nii.gz\u001b[0m\n"
      ]
     },
     "metadata": {},
     "output_type": "display_data"
    }
   ],
   "source": [
    "# Regional time series from each brain region\n",
    "\n",
    "regional_time_series = {}\n",
    "\n",
    "for subject_id, nifti_img in img_4d_data.items():\n",
    "    \n",
    "    # Extract time series for each of the 100 brain regions\n",
    "    time_series = atlas_masker.fit_transform(nifti_img)\n",
    "    regional_time_series[subject_id] = time_series\n"
   ]
  },
  {
   "cell_type": "code",
   "execution_count": 43,
   "id": "ab2064d9-090c-4693-a163-437a73630d8a",
   "metadata": {},
   "outputs": [
    {
     "data": {
      "text/plain": [
       "array([[-0.02357753, -0.04815276,  0.02736692, ...,  0.0958518 ,\n",
       "         0.03175383,  0.04049539],\n",
       "       [ 1.2162502 , -0.52890396,  0.5500706 , ...,  0.17521314,\n",
       "         0.63070613,  1.1826293 ],\n",
       "       [ 1.4184076 , -1.3887494 ,  0.2891207 , ..., -0.16427284,\n",
       "         0.35133848,  1.4121964 ],\n",
       "       ...,\n",
       "       [ 1.0913178 ,  0.29919252,  0.34393305, ...,  0.39294258,\n",
       "         1.2343836 ,  1.9622396 ],\n",
       "       [ 0.67872113,  0.4100077 ,  0.21303502, ...,  0.5004729 ,\n",
       "         0.8462071 ,  1.4762133 ],\n",
       "       [-0.22893535, -0.38335785, -0.45317864, ...,  0.09715392,\n",
       "        -0.35697445, -0.17906103]], shape=(282, 100), dtype=float32)"
      ]
     },
     "execution_count": 43,
     "metadata": {},
     "output_type": "execute_result"
    }
   ],
   "source": [
    " regional_time_series['EN25'] # shape (n_timepoints, 100) "
   ]
  },
  {
   "cell_type": "code",
   "execution_count": 53,
   "id": "58c52d16-2ad4-4465-8804-bef969165c2f",
   "metadata": {},
   "outputs": [
    {
     "data": {
      "text/html": [
       "<style>#sk-container-id-5 {\n",
       "  /* Definition of color scheme common for light and dark mode */\n",
       "  --sklearn-color-text: #000;\n",
       "  --sklearn-color-text-muted: #666;\n",
       "  --sklearn-color-line: gray;\n",
       "  /* Definition of color scheme for unfitted estimators */\n",
       "  --sklearn-color-unfitted-level-0: #fff5e6;\n",
       "  --sklearn-color-unfitted-level-1: #f6e4d2;\n",
       "  --sklearn-color-unfitted-level-2: #ffe0b3;\n",
       "  --sklearn-color-unfitted-level-3: chocolate;\n",
       "  /* Definition of color scheme for fitted estimators */\n",
       "  --sklearn-color-fitted-level-0: #f0f8ff;\n",
       "  --sklearn-color-fitted-level-1: #d4ebff;\n",
       "  --sklearn-color-fitted-level-2: #b3dbfd;\n",
       "  --sklearn-color-fitted-level-3: cornflowerblue;\n",
       "\n",
       "  /* Specific color for light theme */\n",
       "  --sklearn-color-text-on-default-background: var(--sg-text-color, var(--theme-code-foreground, var(--jp-content-font-color1, black)));\n",
       "  --sklearn-color-background: var(--sg-background-color, var(--theme-background, var(--jp-layout-color0, white)));\n",
       "  --sklearn-color-border-box: var(--sg-text-color, var(--theme-code-foreground, var(--jp-content-font-color1, black)));\n",
       "  --sklearn-color-icon: #696969;\n",
       "\n",
       "  @media (prefers-color-scheme: dark) {\n",
       "    /* Redefinition of color scheme for dark theme */\n",
       "    --sklearn-color-text-on-default-background: var(--sg-text-color, var(--theme-code-foreground, var(--jp-content-font-color1, white)));\n",
       "    --sklearn-color-background: var(--sg-background-color, var(--theme-background, var(--jp-layout-color0, #111)));\n",
       "    --sklearn-color-border-box: var(--sg-text-color, var(--theme-code-foreground, var(--jp-content-font-color1, white)));\n",
       "    --sklearn-color-icon: #878787;\n",
       "  }\n",
       "}\n",
       "\n",
       "#sk-container-id-5 {\n",
       "  color: var(--sklearn-color-text);\n",
       "}\n",
       "\n",
       "#sk-container-id-5 pre {\n",
       "  padding: 0;\n",
       "}\n",
       "\n",
       "#sk-container-id-5 input.sk-hidden--visually {\n",
       "  border: 0;\n",
       "  clip: rect(1px 1px 1px 1px);\n",
       "  clip: rect(1px, 1px, 1px, 1px);\n",
       "  height: 1px;\n",
       "  margin: -1px;\n",
       "  overflow: hidden;\n",
       "  padding: 0;\n",
       "  position: absolute;\n",
       "  width: 1px;\n",
       "}\n",
       "\n",
       "#sk-container-id-5 div.sk-dashed-wrapped {\n",
       "  border: 1px dashed var(--sklearn-color-line);\n",
       "  margin: 0 0.4em 0.5em 0.4em;\n",
       "  box-sizing: border-box;\n",
       "  padding-bottom: 0.4em;\n",
       "  background-color: var(--sklearn-color-background);\n",
       "}\n",
       "\n",
       "#sk-container-id-5 div.sk-container {\n",
       "  /* jupyter's `normalize.less` sets `[hidden] { display: none; }`\n",
       "     but bootstrap.min.css set `[hidden] { display: none !important; }`\n",
       "     so we also need the `!important` here to be able to override the\n",
       "     default hidden behavior on the sphinx rendered scikit-learn.org.\n",
       "     See: https://github.com/scikit-learn/scikit-learn/issues/21755 */\n",
       "  display: inline-block !important;\n",
       "  position: relative;\n",
       "}\n",
       "\n",
       "#sk-container-id-5 div.sk-text-repr-fallback {\n",
       "  display: none;\n",
       "}\n",
       "\n",
       "div.sk-parallel-item,\n",
       "div.sk-serial,\n",
       "div.sk-item {\n",
       "  /* draw centered vertical line to link estimators */\n",
       "  background-image: linear-gradient(var(--sklearn-color-text-on-default-background), var(--sklearn-color-text-on-default-background));\n",
       "  background-size: 2px 100%;\n",
       "  background-repeat: no-repeat;\n",
       "  background-position: center center;\n",
       "}\n",
       "\n",
       "/* Parallel-specific style estimator block */\n",
       "\n",
       "#sk-container-id-5 div.sk-parallel-item::after {\n",
       "  content: \"\";\n",
       "  width: 100%;\n",
       "  border-bottom: 2px solid var(--sklearn-color-text-on-default-background);\n",
       "  flex-grow: 1;\n",
       "}\n",
       "\n",
       "#sk-container-id-5 div.sk-parallel {\n",
       "  display: flex;\n",
       "  align-items: stretch;\n",
       "  justify-content: center;\n",
       "  background-color: var(--sklearn-color-background);\n",
       "  position: relative;\n",
       "}\n",
       "\n",
       "#sk-container-id-5 div.sk-parallel-item {\n",
       "  display: flex;\n",
       "  flex-direction: column;\n",
       "}\n",
       "\n",
       "#sk-container-id-5 div.sk-parallel-item:first-child::after {\n",
       "  align-self: flex-end;\n",
       "  width: 50%;\n",
       "}\n",
       "\n",
       "#sk-container-id-5 div.sk-parallel-item:last-child::after {\n",
       "  align-self: flex-start;\n",
       "  width: 50%;\n",
       "}\n",
       "\n",
       "#sk-container-id-5 div.sk-parallel-item:only-child::after {\n",
       "  width: 0;\n",
       "}\n",
       "\n",
       "/* Serial-specific style estimator block */\n",
       "\n",
       "#sk-container-id-5 div.sk-serial {\n",
       "  display: flex;\n",
       "  flex-direction: column;\n",
       "  align-items: center;\n",
       "  background-color: var(--sklearn-color-background);\n",
       "  padding-right: 1em;\n",
       "  padding-left: 1em;\n",
       "}\n",
       "\n",
       "\n",
       "/* Toggleable style: style used for estimator/Pipeline/ColumnTransformer box that is\n",
       "clickable and can be expanded/collapsed.\n",
       "- Pipeline and ColumnTransformer use this feature and define the default style\n",
       "- Estimators will overwrite some part of the style using the `sk-estimator` class\n",
       "*/\n",
       "\n",
       "/* Pipeline and ColumnTransformer style (default) */\n",
       "\n",
       "#sk-container-id-5 div.sk-toggleable {\n",
       "  /* Default theme specific background. It is overwritten whether we have a\n",
       "  specific estimator or a Pipeline/ColumnTransformer */\n",
       "  background-color: var(--sklearn-color-background);\n",
       "}\n",
       "\n",
       "/* Toggleable label */\n",
       "#sk-container-id-5 label.sk-toggleable__label {\n",
       "  cursor: pointer;\n",
       "  display: flex;\n",
       "  width: 100%;\n",
       "  margin-bottom: 0;\n",
       "  padding: 0.5em;\n",
       "  box-sizing: border-box;\n",
       "  text-align: center;\n",
       "  align-items: start;\n",
       "  justify-content: space-between;\n",
       "  gap: 0.5em;\n",
       "}\n",
       "\n",
       "#sk-container-id-5 label.sk-toggleable__label .caption {\n",
       "  font-size: 0.6rem;\n",
       "  font-weight: lighter;\n",
       "  color: var(--sklearn-color-text-muted);\n",
       "}\n",
       "\n",
       "#sk-container-id-5 label.sk-toggleable__label-arrow:before {\n",
       "  /* Arrow on the left of the label */\n",
       "  content: \"▸\";\n",
       "  float: left;\n",
       "  margin-right: 0.25em;\n",
       "  color: var(--sklearn-color-icon);\n",
       "}\n",
       "\n",
       "#sk-container-id-5 label.sk-toggleable__label-arrow:hover:before {\n",
       "  color: var(--sklearn-color-text);\n",
       "}\n",
       "\n",
       "/* Toggleable content - dropdown */\n",
       "\n",
       "#sk-container-id-5 div.sk-toggleable__content {\n",
       "  max-height: 0;\n",
       "  max-width: 0;\n",
       "  overflow: hidden;\n",
       "  text-align: left;\n",
       "  /* unfitted */\n",
       "  background-color: var(--sklearn-color-unfitted-level-0);\n",
       "}\n",
       "\n",
       "#sk-container-id-5 div.sk-toggleable__content.fitted {\n",
       "  /* fitted */\n",
       "  background-color: var(--sklearn-color-fitted-level-0);\n",
       "}\n",
       "\n",
       "#sk-container-id-5 div.sk-toggleable__content pre {\n",
       "  margin: 0.2em;\n",
       "  border-radius: 0.25em;\n",
       "  color: var(--sklearn-color-text);\n",
       "  /* unfitted */\n",
       "  background-color: var(--sklearn-color-unfitted-level-0);\n",
       "}\n",
       "\n",
       "#sk-container-id-5 div.sk-toggleable__content.fitted pre {\n",
       "  /* unfitted */\n",
       "  background-color: var(--sklearn-color-fitted-level-0);\n",
       "}\n",
       "\n",
       "#sk-container-id-5 input.sk-toggleable__control:checked~div.sk-toggleable__content {\n",
       "  /* Expand drop-down */\n",
       "  max-height: 200px;\n",
       "  max-width: 100%;\n",
       "  overflow: auto;\n",
       "}\n",
       "\n",
       "#sk-container-id-5 input.sk-toggleable__control:checked~label.sk-toggleable__label-arrow:before {\n",
       "  content: \"▾\";\n",
       "}\n",
       "\n",
       "/* Pipeline/ColumnTransformer-specific style */\n",
       "\n",
       "#sk-container-id-5 div.sk-label input.sk-toggleable__control:checked~label.sk-toggleable__label {\n",
       "  color: var(--sklearn-color-text);\n",
       "  background-color: var(--sklearn-color-unfitted-level-2);\n",
       "}\n",
       "\n",
       "#sk-container-id-5 div.sk-label.fitted input.sk-toggleable__control:checked~label.sk-toggleable__label {\n",
       "  background-color: var(--sklearn-color-fitted-level-2);\n",
       "}\n",
       "\n",
       "/* Estimator-specific style */\n",
       "\n",
       "/* Colorize estimator box */\n",
       "#sk-container-id-5 div.sk-estimator input.sk-toggleable__control:checked~label.sk-toggleable__label {\n",
       "  /* unfitted */\n",
       "  background-color: var(--sklearn-color-unfitted-level-2);\n",
       "}\n",
       "\n",
       "#sk-container-id-5 div.sk-estimator.fitted input.sk-toggleable__control:checked~label.sk-toggleable__label {\n",
       "  /* fitted */\n",
       "  background-color: var(--sklearn-color-fitted-level-2);\n",
       "}\n",
       "\n",
       "#sk-container-id-5 div.sk-label label.sk-toggleable__label,\n",
       "#sk-container-id-5 div.sk-label label {\n",
       "  /* The background is the default theme color */\n",
       "  color: var(--sklearn-color-text-on-default-background);\n",
       "}\n",
       "\n",
       "/* On hover, darken the color of the background */\n",
       "#sk-container-id-5 div.sk-label:hover label.sk-toggleable__label {\n",
       "  color: var(--sklearn-color-text);\n",
       "  background-color: var(--sklearn-color-unfitted-level-2);\n",
       "}\n",
       "\n",
       "/* Label box, darken color on hover, fitted */\n",
       "#sk-container-id-5 div.sk-label.fitted:hover label.sk-toggleable__label.fitted {\n",
       "  color: var(--sklearn-color-text);\n",
       "  background-color: var(--sklearn-color-fitted-level-2);\n",
       "}\n",
       "\n",
       "/* Estimator label */\n",
       "\n",
       "#sk-container-id-5 div.sk-label label {\n",
       "  font-family: monospace;\n",
       "  font-weight: bold;\n",
       "  display: inline-block;\n",
       "  line-height: 1.2em;\n",
       "}\n",
       "\n",
       "#sk-container-id-5 div.sk-label-container {\n",
       "  text-align: center;\n",
       "}\n",
       "\n",
       "/* Estimator-specific */\n",
       "#sk-container-id-5 div.sk-estimator {\n",
       "  font-family: monospace;\n",
       "  border: 1px dotted var(--sklearn-color-border-box);\n",
       "  border-radius: 0.25em;\n",
       "  box-sizing: border-box;\n",
       "  margin-bottom: 0.5em;\n",
       "  /* unfitted */\n",
       "  background-color: var(--sklearn-color-unfitted-level-0);\n",
       "}\n",
       "\n",
       "#sk-container-id-5 div.sk-estimator.fitted {\n",
       "  /* fitted */\n",
       "  background-color: var(--sklearn-color-fitted-level-0);\n",
       "}\n",
       "\n",
       "/* on hover */\n",
       "#sk-container-id-5 div.sk-estimator:hover {\n",
       "  /* unfitted */\n",
       "  background-color: var(--sklearn-color-unfitted-level-2);\n",
       "}\n",
       "\n",
       "#sk-container-id-5 div.sk-estimator.fitted:hover {\n",
       "  /* fitted */\n",
       "  background-color: var(--sklearn-color-fitted-level-2);\n",
       "}\n",
       "\n",
       "/* Specification for estimator info (e.g. \"i\" and \"?\") */\n",
       "\n",
       "/* Common style for \"i\" and \"?\" */\n",
       "\n",
       ".sk-estimator-doc-link,\n",
       "a:link.sk-estimator-doc-link,\n",
       "a:visited.sk-estimator-doc-link {\n",
       "  float: right;\n",
       "  font-size: smaller;\n",
       "  line-height: 1em;\n",
       "  font-family: monospace;\n",
       "  background-color: var(--sklearn-color-background);\n",
       "  border-radius: 1em;\n",
       "  height: 1em;\n",
       "  width: 1em;\n",
       "  text-decoration: none !important;\n",
       "  margin-left: 0.5em;\n",
       "  text-align: center;\n",
       "  /* unfitted */\n",
       "  border: var(--sklearn-color-unfitted-level-1) 1pt solid;\n",
       "  color: var(--sklearn-color-unfitted-level-1);\n",
       "}\n",
       "\n",
       ".sk-estimator-doc-link.fitted,\n",
       "a:link.sk-estimator-doc-link.fitted,\n",
       "a:visited.sk-estimator-doc-link.fitted {\n",
       "  /* fitted */\n",
       "  border: var(--sklearn-color-fitted-level-1) 1pt solid;\n",
       "  color: var(--sklearn-color-fitted-level-1);\n",
       "}\n",
       "\n",
       "/* On hover */\n",
       "div.sk-estimator:hover .sk-estimator-doc-link:hover,\n",
       ".sk-estimator-doc-link:hover,\n",
       "div.sk-label-container:hover .sk-estimator-doc-link:hover,\n",
       ".sk-estimator-doc-link:hover {\n",
       "  /* unfitted */\n",
       "  background-color: var(--sklearn-color-unfitted-level-3);\n",
       "  color: var(--sklearn-color-background);\n",
       "  text-decoration: none;\n",
       "}\n",
       "\n",
       "div.sk-estimator.fitted:hover .sk-estimator-doc-link.fitted:hover,\n",
       ".sk-estimator-doc-link.fitted:hover,\n",
       "div.sk-label-container:hover .sk-estimator-doc-link.fitted:hover,\n",
       ".sk-estimator-doc-link.fitted:hover {\n",
       "  /* fitted */\n",
       "  background-color: var(--sklearn-color-fitted-level-3);\n",
       "  color: var(--sklearn-color-background);\n",
       "  text-decoration: none;\n",
       "}\n",
       "\n",
       "/* Span, style for the box shown on hovering the info icon */\n",
       ".sk-estimator-doc-link span {\n",
       "  display: none;\n",
       "  z-index: 9999;\n",
       "  position: relative;\n",
       "  font-weight: normal;\n",
       "  right: .2ex;\n",
       "  padding: .5ex;\n",
       "  margin: .5ex;\n",
       "  width: min-content;\n",
       "  min-width: 20ex;\n",
       "  max-width: 50ex;\n",
       "  color: var(--sklearn-color-text);\n",
       "  box-shadow: 2pt 2pt 4pt #999;\n",
       "  /* unfitted */\n",
       "  background: var(--sklearn-color-unfitted-level-0);\n",
       "  border: .5pt solid var(--sklearn-color-unfitted-level-3);\n",
       "}\n",
       "\n",
       ".sk-estimator-doc-link.fitted span {\n",
       "  /* fitted */\n",
       "  background: var(--sklearn-color-fitted-level-0);\n",
       "  border: var(--sklearn-color-fitted-level-3);\n",
       "}\n",
       "\n",
       ".sk-estimator-doc-link:hover span {\n",
       "  display: block;\n",
       "}\n",
       "\n",
       "/* \"?\"-specific style due to the `<a>` HTML tag */\n",
       "\n",
       "#sk-container-id-5 a.estimator_doc_link {\n",
       "  float: right;\n",
       "  font-size: 1rem;\n",
       "  line-height: 1em;\n",
       "  font-family: monospace;\n",
       "  background-color: var(--sklearn-color-background);\n",
       "  border-radius: 1rem;\n",
       "  height: 1rem;\n",
       "  width: 1rem;\n",
       "  text-decoration: none;\n",
       "  /* unfitted */\n",
       "  color: var(--sklearn-color-unfitted-level-1);\n",
       "  border: var(--sklearn-color-unfitted-level-1) 1pt solid;\n",
       "}\n",
       "\n",
       "#sk-container-id-5 a.estimator_doc_link.fitted {\n",
       "  /* fitted */\n",
       "  border: var(--sklearn-color-fitted-level-1) 1pt solid;\n",
       "  color: var(--sklearn-color-fitted-level-1);\n",
       "}\n",
       "\n",
       "/* On hover */\n",
       "#sk-container-id-5 a.estimator_doc_link:hover {\n",
       "  /* unfitted */\n",
       "  background-color: var(--sklearn-color-unfitted-level-3);\n",
       "  color: var(--sklearn-color-background);\n",
       "  text-decoration: none;\n",
       "}\n",
       "\n",
       "#sk-container-id-5 a.estimator_doc_link.fitted:hover {\n",
       "  /* fitted */\n",
       "  background-color: var(--sklearn-color-fitted-level-3);\n",
       "}\n",
       "</style><div id=\"sk-container-id-5\" class=\"sk-top-container\"><div class=\"sk-text-repr-fallback\"><pre>ConnectivityMeasure(discard_diagonal=True, kind=&#x27;correlation&#x27;)</pre><b>In a Jupyter environment, please rerun this cell to show the HTML representation or trust the notebook. <br />On GitHub, the HTML representation is unable to render, please try loading this page with nbviewer.org.</b></div><div class=\"sk-container\" hidden><div class=\"sk-item\"><div class=\"sk-estimator fitted sk-toggleable\"><input class=\"sk-toggleable__control sk-hidden--visually\" id=\"sk-estimator-id-5\" type=\"checkbox\" checked><label for=\"sk-estimator-id-5\" class=\"sk-toggleable__label fitted sk-toggleable__label-arrow\"><div><div>ConnectivityMeasure</div></div><div><span class=\"sk-estimator-doc-link fitted\">i<span>Fitted</span></span></div></label><div class=\"sk-toggleable__content fitted\"><pre>ConnectivityMeasure(discard_diagonal=True, kind=&#x27;correlation&#x27;)</pre></div> </div></div></div></div>"
      ],
      "text/plain": [
       "ConnectivityMeasure(discard_diagonal=True, kind='correlation')"
      ]
     },
     "execution_count": 53,
     "metadata": {},
     "output_type": "execute_result"
    }
   ],
   "source": [
    "# Create an instance of .ConnectivityMeasure class \n",
    "\n",
    "connectivity_measure = ConnectivityMeasure(\n",
    "    kind='correlation',  # Pearson correlation\n",
    "    discard_diagonal=True  # Remove self-connections \n",
    ")\n",
    "\n",
    "connectivity_measure\n"
   ]
  },
  {
   "cell_type": "code",
   "execution_count": 54,
   "id": "489214d5-dbf7-40a8-8aa5-f99ff34fe2e0",
   "metadata": {},
   "outputs": [],
   "source": [
    "# Connectivity matrices \n",
    "\n",
    "connectivity_matrices = {}\n",
    "\n",
    "for subject_id, time_series in regional_time_series.items():\n",
    "    \n",
    "    # Compute 100x100 correlation matrix between brain regions\n",
    "    conn_matrix = connectivity_measure.fit_transform([time_series])[0]\n",
    "    connectivity_matrices[subject_id] = conn_matrix\n",
    "    "
   ]
  },
  {
   "cell_type": "code",
   "execution_count": 55,
   "id": "4b22ca78-fc6a-46fd-8a3a-b0d39687c73b",
   "metadata": {},
   "outputs": [
    {
     "data": {
      "text/plain": [
       "array([[ 1.        , -0.02373124,  0.07294386, ...,  0.5340529 ,\n",
       "         0.47039592,  0.3722134 ],\n",
       "       [-0.02373124,  1.        ,  0.69377846, ..., -0.02520091,\n",
       "         0.474497  , -0.00958749],\n",
       "       [ 0.07294386,  0.69377846,  1.        , ...,  0.08213706,\n",
       "         0.7653031 ,  0.16194385],\n",
       "       ...,\n",
       "       [ 0.5340529 , -0.02520091,  0.08213706, ...,  1.        ,\n",
       "         0.39617905,  0.47146344],\n",
       "       [ 0.47039592,  0.474497  ,  0.7653031 , ...,  0.39617905,\n",
       "         1.        ,  0.38401833],\n",
       "       [ 0.3722134 , -0.00958749,  0.16194385, ...,  0.47146344,\n",
       "         0.38401833,  1.        ]], shape=(100, 100), dtype=float32)"
      ]
     },
     "execution_count": 55,
     "metadata": {},
     "output_type": "execute_result"
    }
   ],
   "source": [
    "connectivity_matrices[\"EN25\"]"
   ]
  },
  {
   "cell_type": "code",
   "execution_count": 56,
   "id": "69317753-6f15-4615-89e2-a3f329bba52e",
   "metadata": {},
   "outputs": [],
   "source": [
    "def matrix_to_features(conn_matrix):\n",
    "    \n",
    "    # Get upper triangle indices (excluding diagonal)\n",
    "    upper_tri_indices = np.triu_indices(conn_matrix.shape[0], k=1)\n",
    "    \n",
    "    # Extract upper triangle values as feature vector\n",
    "    return conn_matrix[upper_tri_indices]\n",
    "\n",
    "# Prepare features and labels\n",
    "\n",
    "X = []  # Features (connectivity patterns)\n",
    "\n",
    "y_subject = []  # Subject labels\n",
    "\n",
    "y_language = []  # Language labels\n",
    "\n",
    "for subject_id, conn_matrix in connectivity_matrices.items():\n",
    "    \n",
    "    # Convert matrix to feature vector\n",
    "    features = matrix_to_features(conn_matrix)\n",
    "    X.append(features)\n",
    "    \n",
    "    # Add labels\n",
    "    y_subject.append(subject_id)\n",
    "    if subject_id.startswith('CN'):\n",
    "        y_language.append('Chinese')\n",
    "    else:\n",
    "        y_language.append('English')\n",
    "\n",
    "X = np.array(X)\n",
    "y_subject = np.array(y_subject)\n",
    "y_language = np.array(y_language)\n"
   ]
  },
  {
   "cell_type": "code",
   "execution_count": 80,
   "id": "db633d63-6dcb-4107-a87e-dfa918beb73b",
   "metadata": {},
   "outputs": [
    {
     "name": "stdout",
     "output_type": "stream",
     "text": [
      "Language Classification Accuracy: 0.800 ± 0.063\n",
      "Individual fold scores: [0.7 0.8 0.8 0.9 0.8]\n",
      "Chance level: 50.0%\n",
      "\n",
      "Statistical significance test (vs chance):\n",
      "  T-statistic: 9.4868\n",
      "  P-value: 0.000689\n",
      "  Highly significant (p < 0.001)\n"
     ]
    }
   ],
   "source": [
    "# Standardize the features\n",
    "scaler = StandardScaler()\n",
    "X_scaled = scaler.fit_transform(X)\n",
    "\n",
    "# CHINESE vs ENGLISH classification with Random Forest\n",
    "clf_language = RandomForestClassifier(n_estimators=100, random_state=42)\n",
    "\n",
    "# Cross-validation with stratified k-fold\n",
    "cv = StratifiedKFold(n_splits=5, shuffle=True, random_state=42)\n",
    "language_scores = cross_val_score(clf_language, X_scaled, y_language, cv=cv, scoring='accuracy')\n",
    "\n",
    "print(f\"Language Classification Accuracy: {language_scores.mean():.3f} ± {language_scores.std():.3f}\")\n",
    "print(f\"Individual fold scores: {language_scores}\")\n",
    "print(f\"Chance level: 50.0%\")\n",
    "\n",
    "\n",
    "# Train model\n",
    "clf_language.fit(X_scaled, y_language)\n",
    "\n",
    "# Statistical test\n",
    "t_stat, p_value = stats.ttest_1samp(language_scores, 0.5)\n",
    "print(f\"\\nStatistical significance test (vs chance):\")\n",
    "print(f\"  T-statistic: {t_stat:.4f}\")\n",
    "print(f\"  P-value: {p_value:.6f}\")\n",
    "if p_value < 0.001:\n",
    "    print(\"  Highly significant (p < 0.001)\")\n",
    "elif p_value < 0.01:\n",
    "    print(\"  Very significant (p < 0.01)\")\n",
    "elif p_value < 0.05:\n",
    "\n",
    "    print(\"  Significant (p < 0.05)\")\n",
    "else:\n",
    "    print(\"  Not significant\")"
   ]
  },
  {
   "cell_type": "code",
   "execution_count": 81,
   "id": "54c20b7f-551a-446f-90ab-78db40a026eb",
   "metadata": {},
   "outputs": [],
   "source": [
    "# Get feature importance from your trained Random Forest\n",
    "feature_importance = clf_language.feature_importances_\n",
    "# Find top discriminative connections\n",
    "top_connections = np.argsort(feature_importance)[::-1][:20]  # Top 20"
   ]
  },
  {
   "cell_type": "code",
   "execution_count": 82,
   "id": "feca555f-fc99-497e-bdf6-8a61d7ce8649",
   "metadata": {},
   "outputs": [
    {
     "data": {
      "text/plain": [
       "array([1352, 2966, 2184, 2470, 1051, 1813, 2791, 1724, 2256, 4597, 3598,\n",
       "       1327, 1816, 1434, 3517,  263, 2858, 1802, 3273, 3614])"
      ]
     },
     "execution_count": 82,
     "metadata": {},
     "output_type": "execute_result"
    }
   ],
   "source": [
    "top_connections"
   ]
  },
  {
   "cell_type": "code",
   "execution_count": 83,
   "id": "5a6c3675-0031-40cb-a6f8-fb2a8881a5ff",
   "metadata": {},
   "outputs": [
    {
     "name": "stdout",
     "output_type": "stream",
     "text": [
      "Top 20 discriminative connections:\n",
      "Rank | Conn# | ROI1 | ROI2 | Importance | ROI1 Label | ROI2 Label\n",
      "-----------------------------------------------------------------------------------------------\n",
      "   1 |  1352 |   14 |   72 |   0.018156 | 7Networks_LH_SomMot_6     | 7Networks_RH_DorsAttn_FEF\n",
      "   2 |  2966 |   36 |   69 |   0.015074 | 7Networks_LH_Cont_Cing_1  | 7Networks_RH_DorsAttn_Pos\n",
      "   3 |  2184 |   25 |   35 |   0.013410 | 7Networks_LH_SalVentAttn_ | 7Networks_LH_Cont_pCun_1\n",
      "   4 |  2470 |   29 |   35 |   0.013060 | 7Networks_LH_SalVentAttn_ | 7Networks_LH_Cont_pCun_1\n",
      "   5 |  1051 |   11 |   29 |   0.011550 | 7Networks_LH_SomMot_3     | 7Networks_LH_SalVentAttn_\n",
      "   6 |  1813 |   20 |   44 |   0.010883 | 7Networks_LH_DorsAttn_Pos | 7Networks_LH_Default_PFC_\n",
      "   7 |  2791 |   33 |   86 |   0.010873 | 7Networks_LH_Cont_Par_1   | 7Networks_RH_Cont_Cing_1\n",
      "   8 |  1724 |   19 |   34 |   0.009911 | 7Networks_LH_DorsAttn_Pos | 7Networks_LH_Cont_PFCl_1\n",
      "   9 |  2256 |   26 |   34 |   0.009717 | 7Networks_LH_SalVentAttn_ | 7Networks_LH_Cont_PFCl_1\n",
      "  10 |  4597 |   72 |   98 |   0.009516 | 7Networks_RH_DorsAttn_FEF | 7Networks_RH_Default_pCun\n",
      "  11 |  3598 |   47 |   74 |   0.009146 | 7Networks_LH_Default_PFC_ | 7Networks_RH_SalVentAttn_\n",
      "  12 |  1327 |   14 |   47 |   0.008554 | 7Networks_LH_SomMot_6     | 7Networks_LH_Default_PFC_\n",
      "  13 |  1816 |   20 |   47 |   0.008485 | 7Networks_LH_DorsAttn_Pos | 7Networks_LH_Default_PFC_\n",
      "  14 |  1434 |   15 |   70 |   0.008421 | 7Networks_LH_DorsAttn_Pos | 7Networks_RH_DorsAttn_Pos\n",
      "  15 |  3517 |   45 |   98 |   0.007811 | 7Networks_LH_Default_PFC_ | 7Networks_RH_Default_pCun\n",
      "  16 |   263 |    2 |   69 |   0.007682 | 7Networks_LH_Vis_3        | 7Networks_RH_DorsAttn_Pos\n",
      "  17 |  2858 |   34 |   88 |   0.007487 | 7Networks_LH_Cont_PFCl_1  | 7Networks_RH_Cont_pCun_1\n",
      "  18 |  1802 |   20 |   33 |   0.007257 | 7Networks_LH_DorsAttn_Pos | 7Networks_LH_Cont_Par_1\n",
      "  19 |  3273 |   41 |   76 |   0.007195 | 7Networks_LH_Default_PFC_ | 7Networks_RH_SalVentAttn_\n",
      "  20 |  3614 |   47 |   90 |   0.007135 | 7Networks_LH_Default_PFC_ | 7Networks_RH_Default_Temp\n"
     ]
    }
   ],
   "source": [
    "# Convert linear indices back to (i,j) ROI pairs\n",
    "def feature_to_roi_pair(feature_idx, n_rois=100):\n",
    "    \"\"\"\n",
    "    Convert linear feature index back to (i,j) ROI pair indices.\n",
    "    \n",
    "    Parameters:\n",
    "    feature_idx: int, linear index in the upper triangle feature vector\n",
    "    n_rois: int, number of ROIs (default 100)\n",
    "    \n",
    "    Returns:\n",
    "    tuple: (i, j) where i < j are the ROI indices\n",
    "    \"\"\"\n",
    "    # Get upper triangle indices (same as used in matrix_to_features)\n",
    "    upper_tri_indices = np.triu_indices(n_rois, k=1)\n",
    "    \n",
    "    # Convert feature index to (i,j) pair\n",
    "    i = upper_tri_indices[0][feature_idx]\n",
    "    j = upper_tri_indices[1][feature_idx]\n",
    "    \n",
    "    return i, j\n",
    "\n",
    "# Get feature importance from trained Random Forest\n",
    "feature_importance = clf_language.feature_importances_\n",
    "\n",
    "# Find top discriminative connections\n",
    "n_top = 20  # Number of top connections to examine\n",
    "top_feature_indices = np.argsort(feature_importance)[::-1][:n_top]\n",
    "\n",
    "print(f\"Top {n_top} discriminative connections:\")\n",
    "print(\"Rank | Conn# | ROI1 | ROI2 | Importance | ROI1 Label | ROI2 Label\")\n",
    "print(\"-\" * 95)\n",
    "\n",
    "for rank, feature_idx in enumerate(top_feature_indices, 1):\n",
    "    i, j = feature_to_roi_pair(feature_idx)\n",
    "    importance = feature_importance[feature_idx]\n",
    "    \n",
    "    # Get ROI labels (assuming you have atlas.labels from earlier)\n",
    "    roi1_label = atlas.labels[i].decode('utf-8') if hasattr(atlas.labels[i], 'decode') else atlas.labels[i]\n",
    "    roi2_label = atlas.labels[j].decode('utf-8') if hasattr(atlas.labels[j], 'decode') else atlas.labels[j]\n",
    "    \n",
    "    print(f\"{rank:4d} | {feature_idx:5d} | {i:4d} | {j:4d} | {importance:10.6f} | {roi1_label[:25]:<25} | {roi2_label[:25]}\")"
   ]
  },
  {
   "cell_type": "code",
   "execution_count": 87,
   "id": "87804724-bad3-490c-82ef-5f913507d3bf",
   "metadata": {},
   "outputs": [
    {
     "name": "stdout",
     "output_type": "stream",
     "text": [
      "Correlation directions for top discriminative connections:\n",
      "Rank | Conn# | ROI1 | ROI2 | CN_mean | EN_mean | Diff(CN-EN) | Direction\n",
      "------------------------------------------------------------------------------------------\n",
      "   1 |  1352 |   14 |   72 |   0.279 |   0.573 |   -0.294 | EN > CN\n",
      "   2 |  2966 |   36 |   69 |  -0.088 |   0.173 |   -0.261 | EN > CN\n",
      "   3 |  2184 |   25 |   35 |   0.158 |   0.376 |   -0.218 | EN > CN\n",
      "   4 |  2470 |   29 |   35 |  -0.110 |   0.165 |   -0.276 | EN > CN\n",
      "   5 |  1051 |   11 |   29 |   0.453 |   0.665 |   -0.213 | EN > CN\n",
      "   6 |  1813 |   20 |   44 |  -0.187 |   0.034 |   -0.221 | EN > CN\n",
      "   7 |  2791 |   33 |   86 |   0.011 |   0.393 |   -0.382 | EN > CN\n",
      "   8 |  1724 |   19 |   34 |  -0.139 |   0.232 |   -0.372 | EN > CN\n",
      "   9 |  2256 |   26 |   34 |   0.264 |   0.453 |   -0.189 | EN > CN\n",
      "  10 |  4597 |   72 |   98 |   0.118 |   0.331 |   -0.213 | EN > CN\n",
      "  11 |  3598 |   47 |   74 |  -0.284 |  -0.042 |   -0.243 | EN > CN\n",
      "  12 |  1327 |   14 |   47 |  -0.166 |   0.145 |   -0.311 | EN > CN\n",
      "  13 |  1816 |   20 |   47 |  -0.241 |   0.065 |   -0.305 | EN > CN\n",
      "  14 |  1434 |   15 |   70 |   0.092 |   0.343 |   -0.251 | EN > CN\n",
      "  15 |  3517 |   45 |   98 |   0.087 |  -0.045 |    0.132 | CN > EN\n",
      "  16 |   263 |    2 |   69 |   0.011 |   0.213 |   -0.202 | EN > CN\n",
      "  17 |  2858 |   34 |   88 |  -0.086 |   0.167 |   -0.253 | EN > CN\n",
      "  18 |  1802 |   20 |   33 |  -0.043 |   0.182 |   -0.225 | EN > CN\n",
      "  19 |  3273 |   41 |   76 |   0.004 |   0.209 |   -0.205 | EN > CN\n",
      "  20 |  3614 |   47 |   90 |   0.485 |   0.372 |    0.113 | CN > EN\n"
     ]
    }
   ],
   "source": [
    "# Examine correlation directions for top connections\n",
    "print(\"Correlation directions for top discriminative connections:\")\n",
    "print(\"Rank | Conn# | ROI1 | ROI2 | CN_mean | EN_mean | Diff(CN-EN) | Direction\")\n",
    "print(\"-\" * 90)\n",
    "\n",
    "for rank, feature_idx in enumerate(top_feature_indices[:20], 1):  # Top 10 for clarity\n",
    "    i, j = feature_to_roi_pair(feature_idx)\n",
    "    \n",
    "    # Get correlation values for this connection across subjects\n",
    "    cn_correlations = []\n",
    "    en_correlations = []\n",
    "    \n",
    "    for subject_id in connectivity_matrices.keys():\n",
    "        conn_value = connectivity_matrices[subject_id][i, j]\n",
    "        if subject_id.startswith('CN'):\n",
    "            cn_correlations.append(conn_value)\n",
    "        else:\n",
    "            en_correlations.append(conn_value)\n",
    "    \n",
    "    cn_mean = np.mean(cn_correlations)\n",
    "    en_mean = np.mean(en_correlations)\n",
    "    diff = cn_mean - en_mean\n",
    "    \n",
    "    direction = \"CN > EN\" if diff > 0 else \"EN > CN\"\n",
    "    \n",
    "    print(f\"{rank:4d} | {feature_idx:5d} | {i:4d} | {j:4d} | {cn_mean:7.3f} | {en_mean:7.3f} | {diff:8.3f} | {direction}\")\n",
    "\n"
   ]
  },
  {
   "cell_type": "code",
   "execution_count": 107,
   "id": "ed47dc8c-1b3a-48ca-b208-dc7e39d68cca",
   "metadata": {},
   "outputs": [
    {
     "data": {
      "image/png": "[encoded data removed]",
      "text/plain": [
       "<Figure size 660x350 with 5 Axes>"
      ]
     },
     "metadata": {},
     "output_type": "display_data"
    }
   ],
   "source": [
    "# Compute the coordinates from the atlas\n",
    "coords = find_parcellation_cut_coords(labels_img=atlas.maps)\n",
    "\n",
    "\n",
    "# Plotting the connectivity for a sample subject\n",
    "sample_subject = list(connectivity_matrices.keys())[35]\n",
    "conn_matrix = connectivity_matrices[sample_subject] # 100 x 100 connectivity matrix\n",
    "\n",
    "# Only top 99.9% strongest connections are shown\n",
    "# SPHERES = 100 brain regions\n",
    "# LINE THICKNESS = connection strength\n",
    "# LINE COLOR = red for strong, blue for weak\n",
    "\n",
    "plot_connectome(conn_matrix, coords,\n",
    "                edge_threshold=\"99.9%\", \n",
    "                colorbar=True,\n",
    "                title=f\"Brain Connectivity: {sample_subject}\")\n",
    "plt.show()\n",
    "\n",
    "# Interpretations\n",
    "# Different connection patterns between Chinese and English?\n",
    "# Strength differences in language-related regions\n",
    "# Cross-hemispheric connections "
   ]
  },
  {
   "cell_type": "code",
   "execution_count": 96,
   "id": "8ad56d88-972b-4117-ad7a-ca948ad67e48",
   "metadata": {},
   "outputs": [
    {
     "name": "stdout",
     "output_type": "stream",
     "text": [
      "Network Analysis for Top Discriminative Connections\n",
      "============================================================\n",
      "\n",
      "🇨🇳 TOP CHINESE DOMINANT CONNECTIONS:\n",
      "--------------------------------------------------\n",
      "Rank 15 | Connection #3517\n",
      "  ROI 45 (LH): b'7Networks_LH_Default_PFC_5'\n",
      "  ROI 98 (RH): b'7Networks_RH_Default_pCunPCC_1'\n",
      "  Networks: Default ↔ Default\n",
      "  Connection type: Within-network\n",
      "  Hemisphere: Between-hemi\n",
      "  CN advantage: +0.132\n",
      "\n",
      "Rank 20 | Connection #3614\n",
      "  ROI 47 (LH): b'7Networks_LH_Default_PFC_7'\n",
      "  ROI 90 (RH): b'7Networks_RH_Default_Temp_1'\n",
      "  Networks: Default ↔ Default\n",
      "  Connection type: Within-network\n",
      "  Hemisphere: Between-hemi\n",
      "  CN advantage: +0.113\n",
      "\n",
      "\n",
      "🇺🇸 TOP ENGLISH DOMINANT CONNECTIONS:\n",
      "--------------------------------------------------\n",
      "Rank 7 | Connection #2791\n",
      "  ROI 33 (LH): b'7Networks_LH_Cont_Par_1'\n",
      "  ROI 86 (RH): b'7Networks_RH_Cont_Cing_1'\n",
      "  Networks: Cont ↔ Cont\n",
      "  Connection type: Within-network\n",
      "  Hemisphere: Between-hemi\n",
      "  EN advantage: +0.382\n",
      "\n",
      "Rank 8 | Connection #1724\n",
      "  ROI 19 (LH): b'7Networks_LH_DorsAttn_Post_5'\n",
      "  ROI 34 (LH): b'7Networks_LH_Cont_PFCl_1'\n",
      "  Networks: DorsAttn ↔ Cont\n",
      "  Connection type: Between-network\n",
      "  Hemisphere: Within-hemi\n",
      "  EN advantage: +0.372\n",
      "\n",
      "\n",
      "📊 NETWORK SUMMARY:\n",
      "------------------------------\n",
      "Chinese dominant networks: {'Default'}\n",
      "English dominant networks: {'Cont', 'DorsAttn'}\n"
     ]
    }
   ],
   "source": [
    "# Analyze functional networks for top Chinese and English dominant connections\n",
    "print(\"Network Analysis for Top Discriminative Connections\")\n",
    "print(\"=\" * 60)\n",
    "\n",
    "# Extract network information from Schaefer labels\n",
    "def get_network_from_label(label):\n",
    "    \"\"\"Extract network name from Schaefer atlas label\"\"\"\n",
    "    if isinstance(label, bytes):\n",
    "        label = label.decode('utf-8')\n",
    "    \n",
    "    # Schaefer labels format: \"7Networks_LH_Vis_1\" or \"7Networks_RH_SomMot_1\"\n",
    "    parts = label.split('_')\n",
    "    if len(parts) >= 3:\n",
    "        return parts[2]  # Network name (e.g., 'Vis', 'SomMot', 'Limbic')\n",
    "    return 'Unknown'\n",
    "\n",
    "def get_hemisphere_from_label(label):\n",
    "    \"\"\"Extract hemisphere from Schaefer atlas label\"\"\"\n",
    "    if isinstance(label, bytes):\n",
    "        label = label.decode('utf-8')\n",
    "    \n",
    "    parts = label.split('_')\n",
    "    if len(parts) >= 2:\n",
    "        return parts[1]  # 'LH' or 'RH'\n",
    "    return 'Unknown'\n",
    "\n",
    "# Top 2 Chinese dominant connections (CN > EN)\n",
    "chinese_dominant = [\n",
    "    (15, 3517, 45, 98, 0.132),  # (rank, conn#, roi1, roi2, diff)\n",
    "    (20, 3614, 47, 90, 0.113)\n",
    "]\n",
    "\n",
    "# Top 2 English dominant connections (EN > CN) - taking the largest differences\n",
    "english_dominant = [\n",
    "    (7, 2791, 33, 86, -0.382),  # Largest EN advantage\n",
    "    (8, 1724, 19, 34, -0.372)   # Second largest EN advantage\n",
    "]\n",
    "\n",
    "print(\"\\n🇨🇳 TOP CHINESE DOMINANT CONNECTIONS:\")\n",
    "print(\"-\" * 50)\n",
    "for rank, conn_num, roi1, roi2, diff in chinese_dominant:\n",
    "    roi1_label = atlas.labels[roi1]\n",
    "    roi2_label = atlas.labels[roi2]\n",
    "    \n",
    "    roi1_network = get_network_from_label(roi1_label)\n",
    "    roi2_network = get_network_from_label(roi2_label)\n",
    "    roi1_hemi = get_hemisphere_from_label(roi1_label)\n",
    "    roi2_hemi = get_hemisphere_from_label(roi2_label)\n",
    "    \n",
    "    print(f\"Rank {rank} | Connection #{conn_num}\")\n",
    "    print(f\"  ROI {roi1} ({roi1_hemi}): {roi1_label}\")\n",
    "    print(f\"  ROI {roi2} ({roi2_hemi}): {roi2_label}\")\n",
    "    print(f\"  Networks: {roi1_network} ↔ {roi2_network}\")\n",
    "    print(f\"  Connection type: {'Within-network' if roi1_network == roi2_network else 'Between-network'}\")\n",
    "    print(f\"  Hemisphere: {'Within-hemi' if roi1_hemi == roi2_hemi else 'Between-hemi'}\")\n",
    "    print(f\"  CN advantage: +{diff:.3f}\")\n",
    "    print()\n",
    "\n",
    "print(\"\\n🇺🇸 TOP ENGLISH DOMINANT CONNECTIONS:\")\n",
    "print(\"-\" * 50)\n",
    "for rank, conn_num, roi1, roi2, diff in english_dominant:\n",
    "    roi1_label = atlas.labels[roi1]\n",
    "    roi2_label = atlas.labels[roi2]\n",
    "    \n",
    "    roi1_network = get_network_from_label(roi1_label)\n",
    "    roi2_network = get_network_from_label(roi2_label)\n",
    "    roi1_hemi = get_hemisphere_from_label(roi1_label)\n",
    "    roi2_hemi = get_hemisphere_from_label(roi2_label)\n",
    "    \n",
    "    print(f\"Rank {rank} | Connection #{conn_num}\")\n",
    "    print(f\"  ROI {roi1} ({roi1_hemi}): {roi1_label}\")\n",
    "    print(f\"  ROI {roi2} ({roi2_hemi}): {roi2_label}\")\n",
    "    print(f\"  Networks: {roi1_network} ↔ {roi2_network}\")\n",
    "    print(f\"  Connection type: {'Within-network' if roi1_network == roi2_network else 'Between-network'}\")\n",
    "    print(f\"  Hemisphere: {'Within-hemi' if roi1_hemi == roi2_hemi else 'Between-hemi'}\")\n",
    "    print(f\"  EN advantage: +{abs(diff):.3f}\")\n",
    "    print()\n",
    "\n",
    "# Summary of network patterns\n",
    "print(\"\\n📊 NETWORK SUMMARY:\")\n",
    "print(\"-\" * 30)\n",
    "cn_networks = []\n",
    "en_networks = []\n",
    "\n",
    "for _, _, roi1, roi2, _ in chinese_dominant:\n",
    "    cn_networks.extend([get_network_from_label(atlas.labels[roi1]), \n",
    "                       get_network_from_label(atlas.labels[roi2])])\n",
    "\n",
    "for _, _, roi1, roi2, _ in english_dominant:\n",
    "    en_networks.extend([get_network_from_label(atlas.labels[roi1]), \n",
    "                       get_network_from_label(atlas.labels[roi2])])\n",
    "\n",
    "print(f\"Chinese dominant networks: {set(cn_networks)}\")\n",
    "print(f\"English dominant networks: {set(en_networks)}\")"
   ]
  },
  {
   "cell_type": "code",
   "execution_count": null,
   "id": "eb0758a5-47df-439b-b744-e1b0acab610c",
   "metadata": {},
   "outputs": [],
   "source": []
  }
 ],
 "metadata": {
  "kernelspec": {
   "display_name": "fmri",
   "language": "python",
   "name": "fmri"
  },
  "language_info": {
   "codemirror_mode": {
    "name": "ipython",
    "version": 3
   },
   "file_extension": ".py",
   "mimetype": "text/x-python",
   "name": "python",
   "nbconvert_exporter": "python",
   "pygments_lexer": "ipython3",
   "version": "3.13.3"
  }
 },
 "nbformat": 4,
 "nbformat_minor": 5
}
